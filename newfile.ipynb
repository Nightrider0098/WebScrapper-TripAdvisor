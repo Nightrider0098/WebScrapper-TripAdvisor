{
 "cells": [
  {
   "cell_type": "code",
   "execution_count": 98,
   "metadata": {},
   "outputs": [
    {
     "output_type": "stream",
     "name": "stdout",
     "text": [
      "Requirement already satisfied: selenium in /home/hitesh/.local/lib/python3.8/site-packages (3.141.0)\n",
      "Requirement already satisfied: urllib3 in /usr/lib/python3/dist-packages (from selenium) (1.25.9)\n",
      "Requirement already satisfied: pandas in /home/hitesh/.local/lib/python3.8/site-packages (1.2.1)\n",
      "Requirement already satisfied: python-dateutil>=2.7.3 in /usr/lib/python3/dist-packages (from pandas) (2.8.1)\n",
      "Requirement already satisfied: pytz>=2017.3 in /usr/lib/python3/dist-packages (from pandas) (2020.1)\n",
      "Requirement already satisfied: numpy>=1.16.5 in /home/hitesh/.local/lib/python3.8/site-packages (from pandas) (1.20.0)\n"
     ]
    }
   ],
   "source": [
    "!pip install selenium\n",
    "!pip install pandas"
   ]
  },
  {
   "cell_type": "code",
   "execution_count": 99,
   "metadata": {},
   "outputs": [],
   "source": [
    "from selenium import webdriver       \n",
    "import time  \n",
    "import pandas as pd\n",
    "from selenium.webdriver.common.by import By"
   ]
  },
  {
   "cell_type": "code",
   "execution_count": 100,
   "metadata": {},
   "outputs": [],
   "source": [
    "browser = webdriver.Chrome(\"C:\\\\Users\\\\Chirag\\\\Desktop\\\\chromedriver\")\n",
    "# browser =  webdriver.Chrome(executable_path=\"/home/hitesh/Desktop/chromedriver\")\n",
    "browser.get('https://www.tripadvisor.in/Hotel_Review-g297586-d1879037-Reviews-Lemon_Tree_Premier_HITEC_City-Hyderabad_Hyderabad_District_Telangana.html') "
   ]
  },
  {
   "source": [
    "hotel_name = browser.execute_script(\"return document.getElementsByClassName('_1mTlpMC3')[0]? ( document.getElementsByClassName('_1mTlpMC3')[0].innerText):( 'cannotFind')\")"
   ],
   "cell_type": "code",
   "metadata": {},
   "execution_count": 101,
   "outputs": []
  },
  {
   "cell_type": "code",
   "execution_count": 102,
   "metadata": {},
   "outputs": [],
   "source": [
    "hotel_location = browser.execute_script(\"return document.getElementsByClassName('_3ErVArsu jke2_wbp')[0]? ( document.getElementsByClassName('_3ErVArsu jke2_wbp')[0].innerText):( 'cannotFind')\")"
   ]
  },
  {
   "cell_type": "code",
   "execution_count": 103,
   "metadata": {},
   "outputs": [],
   "source": [
    "\n",
    "review_date = []\n",
    "for i in range(len(browser.execute_script(\"return document.getElementsByClassName('_2wrUUKlw')\"))):\n",
    "    review_date.append( browser.execute_script(\"return document.getElementsByClassName('_2fxQ4TOx')[\"+str(i)+\"].innerText\").replace(browser.execute_script(\"return document.getElementsByClassName('ui_header_link _1r_My98y')[\"+str(i)+\"].innerText\"),'').replace(\" wrote a review \",\"\"))"
   ]
  },
  {
   "cell_type": "code",
   "execution_count": 104,
   "metadata": {},
   "outputs": [],
   "source": [
    "review_title = []\n",
    "for i in range(len(browser.execute_script(\"return document.getElementsByClassName('_2wrUUKlw')\"))):\n",
    "    review_title.append( browser.execute_script(\"return document.getElementsByClassName('glasR4aX')[\"+str(i)+\"].innerText\"))"
   ]
  },
  {
   "cell_type": "code",
   "execution_count": 105,
   "metadata": {},
   "outputs": [],
   "source": [
    "review_text = []\n",
    "for i in range(len(browser.execute_script(\"return document.getElementsByClassName('_2wrUUKlw')\"))):\n",
    "    review_text.append( browser.execute_script(\"return document.getElementsByClassName('IRsGHoPm')[\"+str(i)+\"].innerText\"))"
   ]
  },
  {
   "cell_type": "code",
   "execution_count": 106,
   "metadata": {},
   "outputs": [],
   "source": [
    "rating = []\n",
    "for i in range(len(browser.execute_script(\"return document.getElementsByClassName('_2wrUUKlw')\"))):\n",
    "    rating.append( int(browser.execute_script(\"return document.getElementsByClassName('nf9vGX55')[\"+str(i)+\"].firstElementChild.classList[1]\").replace(\"bubble_\",\"\"))/10)\n"
   ]
  },
  {
   "cell_type": "code",
   "execution_count": 107,
   "metadata": {},
   "outputs": [],
   "source": [
    "\n",
    "date_of_stay = []\n",
    "for i in range(len(browser.execute_script(\"return document.getElementsByClassName('_2wrUUKlw')\"))):\n",
    "    date_of_stay.append( browser.execute_script(\"return  document.getElementsByClassName('_2wrUUKlw')[\"+str(i)+\"].getElementsByClassName('_34Xs-BQm').length===1 ?document.getElementsByClassName('_2wrUUKlw')[\"+str(i)+\"].getElementsByClassName('_34Xs-BQm')[0].innerText: ''\").replace(browser.execute_script(\"return document.getElementsByClassName('_2wrUUKlw')[\"+str(i)+\"].getElementsByClassName('_355y0nZn')[0].innerText\"),'')[1:])"
   ]
  },
  {
   "cell_type": "code",
   "execution_count": 108,
   "metadata": {},
   "outputs": [],
   "source": [
    "\n",
    "trip_type = []\n",
    "for i in range(len(browser.execute_script(\"return document.getElementsByClassName('_2wrUUKlw')\"))):\n",
    "    trip_type.append( browser.execute_script(\"return document.getElementsByClassName('_2wrUUKlw')[\"+str(i)+\"].getElementsByClassName('_2bVY3aT5').length===1?document.getElementsByClassName('_2wrUUKlw')[\"+str(i)+\"].getElementsByClassName('_2bVY3aT5')[0].innerText: ''\").replace(browser.execute_script(\"return document.getElementsByClassName('_2wrUUKlw')[\"+str(i)+\"].getElementsByClassName('trip_type_label')[0].innerText\"),'').replace('Travelled',\"\").replace('as a','').replace('on','').replace('with','').replace(\" \",''))"
   ]
  },
  {
   "cell_type": "code",
   "execution_count": 109,
   "metadata": {},
   "outputs": [
    {
     "output_type": "execute_result",
     "data": {
      "text/plain": [
       "['Sourav Goswami', 'Venkat Allurkar', 'Smita', 'Nilesh R', 'Neeta R']"
      ]
     },
     "metadata": {},
     "execution_count": 109
    }
   ],
   "source": [
    "reviewer_name = []\n",
    "for i in range(len(browser.execute_script(\"return document.getElementsByClassName('_2wrUUKlw')\"))):\n",
    "    reviewer_name.append(browser.execute_script(\"return document.getElementsByClassName('_2wrUUKlw')[\"+str(i)+\"].getElementsByClassName('ui_header_link _1r_My98y')[0].innerText\"))\n",
    "reviewer_name\n"
   ]
  },
  {
   "cell_type": "code",
   "execution_count": 110,
   "metadata": {},
   "outputs": [],
   "source": [
    "contribuiton = []\n",
    "help_full_votes = []\n",
    "location_reviewer = []\n",
    "for i in range(len(browser.execute_script(\"return document.getElementsByClassName('_2wrUUKlw')\"))):\n",
    "    sizeOfBar = browser.execute_script( \"return document.getElementsByClassName('_2wrUUKlw')[\"+str(i)+\"].getElementsByClassName('_1EpRX7o3').length>0? document.getElementsByClassName('_2wrUUKlw')[\"+str(i)+\"].getElementsByClassName('_1EpRX7o3')[0].childElementCount : 0\")\n",
    "    for element in range(int(sizeOfBar)):\n",
    "        name = browser.execute_script( \"return document.getElementsByClassName('_2wrUUKlw')[\"+str(i)+\"].getElementsByClassName('_1EpRX7o3')[0].childNodes[\"+str(element)+\"].innerText\")\n",
    "        if (name.find('contribution') > (-1)): \n",
    "            contribuiton.append(int(name.replace('contribution','').replace('s','')))\n",
    "        \n",
    "        elif (name.find('helpful votes') >(-1)):\n",
    "            help_full_votes.append(int(name.replace('helpful vote','').replace('s','')))\n",
    "        \n",
    "        else :\n",
    "            location_reviewer.append(name)\n",
    "    if len(contribuiton) < (i+1):\n",
    "        contribuiton.append('')\n",
    "    if len(help_full_votes) < (i+1):\n",
    "        help_full_votes.append('')\n",
    "    if len(location_reviewer) < (i+1):\n",
    "        location_reviewer.append('')\n",
    "        \n"
   ]
  },
  {
   "cell_type": "code",
   "execution_count": 111,
   "metadata": {},
   "outputs": [],
   "source": [
    "\n",
    "expected_len = 0\n",
    "for t in range(2):\n",
    "    browser.execute_script((\"document.querySelector('.ui_pagination .primary').click()\"))\n",
    "    time.sleep(1)\n",
    "    for i in range(len(browser.execute_script(\"return document.getElementsByClassName('_2wrUUKlw')\"))):\n",
    "        browser.execute_script(\" document.getElementsByClassName('_2wrUUKlw')[\"+str(i)+\"].getElementsByClassName('_3maEfNCR')[0].click()\")\n",
    "        hasOtherDetails = int(browser.execute_script(\"return document.getElementsByClassName('_2wrUUKlw')[\"+str(i)+\"].getElementsByClassName('_1HQD2bGG').length\"))\n",
    "        if hasOtherDetails>0:\n",
    "            noOfOtherDetails=  int(browser.execute_script(\"return document.getElementsByClassName('_2wrUUKlw')[\"+str(i)+\"].getElementsByClassName('_1HQD2bGG')[0].childElementCount\"))\n",
    "            for j in range(noOfOtherDetails):\n",
    "                typeOfStat = browser.execute_script(\"return document.getElementsByClassName('_2wrUUKlw')[\"+str(i)+\"].getElementsByClassName('_1HQD2bGG')[0].children[\"+str(j)+\"].innerText\")\n",
    "                value = int(browser.execute_script(\"return document.getElementsByClassName('_2wrUUKlw')[\"+str(i)+\"].getElementsByClassName('_1HQD2bGG')[0].getElementsByClassName('_3-8hSrXs')[\"+str(j)+\"].firstElementChild.classList[1]\").replace(\"bubble_\",\"\"))/10\n",
    "                if(typeOfStat.find('Value')>-1):\n",
    "                    Value_rating.append(value)\n",
    "                elif(typeOfStat.find('Location')>-1):\n",
    "                    Location_rating.append(value)\n",
    "                elif(typeOfStat.find('Service')>-1):\n",
    "                    Service_rating.append(value)\n",
    "                elif(typeOfStat.find('Cleanliness')>-1):\n",
    "                    Cleanliness_rating.append(value)\n",
    "                elif(typeOfStat.find('Room')>-1):\n",
    "                    Rooms_rating.append(value)\n",
    "                elif(typeOfStat.find('Sleep')>-1):\n",
    "                    Sleep_Quality_rating.append(value)\n",
    "            if(len(Value_rating)<(i+1+expected_len)):\n",
    "                Value_rating.append('')\n",
    "            if(len(Location_rating)<(i+1+expected_len)):\n",
    "                Location_rating.append('')\n",
    "            if(len(Service_rating)<(i+1+expected_len)):\n",
    "                Service_rating.append('')\n",
    "            if(len(Rooms_rating)<(i+1+expected_len)):\n",
    "                Rooms_rating.append('')\n",
    "            if(len(Sleep_Quality_rating)<(i+1+expected_len)):\n",
    "                Sleep_Quality_rating.append('')\n",
    "            if(len(Cleanliness_rating)<(i+1+expected_len)):\n",
    "                Cleanliness_rating.append('')\n",
    "\n",
    "                    \n",
    "        else:\n",
    "            Location_rating.append('')\n",
    "            Service_rating.append('')\n",
    "            Cleanliness_rating.append('')\n",
    "            Rooms_rating.append('')\n",
    "            Sleep_Quality_rating.append('')\n",
    "            Value_rating.append('')\n",
    "    expected_len += len(browser.execute_script(\"return document.getElementsByClassName('_2wrUUKlw')\"))\n"
   ]
  },
  {
   "cell_type": "code",
   "execution_count": null,
   "metadata": {},
   "outputs": [],
   "source": []
  },
  {
   "cell_type": "code",
   "execution_count": 112,
   "metadata": {},
   "outputs": [],
   "source": [
    "# clearing of all the data\n",
    "review_date = []\n",
    "review_title=[]\n",
    "review_text=[]\n",
    "rating=[]\n",
    "date_of_stay=[]\n",
    "trip_type=[]\n",
    "reviewer_name=[]\n",
    "sizeOfBar=[]\n",
    "contribuiton=[]\n",
    "help_full_votes=[]\n",
    "location_reviewer=[]\n",
    "Location_rating = []\n",
    "Service_rating = []\n",
    "Cleanliness_rating = []\n",
    "Rooms_rating = []\n",
    "Sleep_Quality_rating = []\n",
    "Value_rating =[]"
   ]
  },
  {
   "cell_type": "code",
   "execution_count": 113,
   "metadata": {},
   "outputs": [],
   "source": [
    "# next page\n",
    "expected_len  = 0\n",
    "for _ in range(5):\n",
    "    browser.execute_script((\"document.querySelector('.ui_pagination .primary').click()\"))\n",
    "    time.sleep(1)\n",
    "    for i in range(len(browser.execute_script(\"return document.getElementsByClassName('_2wrUUKlw')\"))):\n",
    "        review_date.append( browser.execute_script(\"return document.getElementsByClassName('_2fxQ4TOx')[\"+str(i)+\"].innerText\").replace(browser.execute_script(\"return document.getElementsByClassName('ui_header_link _1r_My98y')[\"+str(i)+\"].innerText\"),'').replace(\" wrote a review \",\"\"))\n",
    "        review_title.append( browser.execute_script(\"return document.getElementsByClassName('glasR4aX')[\"+str(i)+\"].innerText\"))\n",
    "        review_text.append( browser.execute_script(\"return document.getElementsByClassName('IRsGHoPm')[\"+str(i)+\"].innerText\"))\n",
    "        rating.append( int(browser.execute_script(\"return document.getElementsByClassName('nf9vGX55')[\"+str(i)+\"].firstElementChild.classList[1]\").replace(\"bubble_\",\"\"))/10)\n",
    "        date_of_stay.append( browser.execute_script(\"return  document.getElementsByClassName('_2wrUUKlw')[\"+str(i)+\"].getElementsByClassName('_34Xs-BQm').length===1 ?document.getElementsByClassName('_2wrUUKlw')[\"+str(i)+\"].getElementsByClassName('_34Xs-BQm')[0].innerText: ''\").replace(browser.execute_script(\"return document.getElementsByClassName('_2wrUUKlw')[\"+str(i)+\"].getElementsByClassName('_34Xs-BQm').length===1? document.getElementsByClassName('_2wrUUKlw')[\"+str(i)+\"].getElementsByClassName('_355y0nZn')[0].innerText:''\"),'')[1:])\n",
    "        trip_type.append( browser.execute_script(\"return document.getElementsByClassName('_2wrUUKlw')[\"+str(i)+\"].getElementsByClassName('_2bVY3aT5').length===1?document.getElementsByClassName('_2wrUUKlw')[\"+str(i)+\"].getElementsByClassName('_2bVY3aT5')[0].innerText: ''\"))\n",
    "        reviewer_name.append(browser.execute_script(\"return document.getElementsByClassName('_2wrUUKlw')[\"+str(i)+\"].getElementsByClassName('ui_header_link _1r_My98y')[0].innerText\"))\n",
    "        sizeOfBar = browser.execute_script( \"return document.getElementsByClassName('_2wrUUKlw')[\"+str(i)+\"].getElementsByClassName('_1EpRX7o3').length>0? document.getElementsByClassName('_2wrUUKlw')[\"+str(i)+\"].getElementsByClassName('_1EpRX7o3')[0].childElementCount : 0\")\n",
    "        for element in range(int(sizeOfBar)):\n",
    "            name = browser.execute_script( \"return document.getElementsByClassName('_2wrUUKlw')[\"+str(i)+\"].getElementsByClassName('_1EpRX7o3')[0].childNodes[\"+str(element)+\"].innerText\")\n",
    "            if (name.find('contribution') > (-1)): \n",
    "                contribuiton.append(int(name.replace('contribution','').replace('s','').replace(',','')))\n",
    "            \n",
    "            elif (name.find('helpful vote') >(-1)):\n",
    "                help_full_votes.append(int(name.replace('helpful vote','').replace('s','').replace(',','')))\n",
    "            \n",
    "            else :\n",
    "                location_reviewer.append(name)\n",
    "        if (len(contribuiton)) < (expected_len+ i+1):\n",
    "            contribuiton.append('')\n",
    "        if (len(help_full_votes)) < (expected_len+ i+1):\n",
    "           help_full_votes.append('')\n",
    "        if (len(location_reviewer)) < (expected_len+ i+1):\n",
    "            location_reviewer.append('')\n",
    "        \n",
    "        browser.execute_script(\" document.getElementsByClassName('_2wrUUKlw')[\"+str(i)+\"].getElementsByClassName('_3maEfNCR')[0].click()\")\n",
    "        hasOtherDetails = int(browser.execute_script(\"return document.getElementsByClassName('_2wrUUKlw')[\"+str(i)+\"].getElementsByClassName('_1HQD2bGG').length\"))\n",
    "        if hasOtherDetails>0:\n",
    "            noOfOtherDetails=  int(browser.execute_script(\"return document.getElementsByClassName('_2wrUUKlw')[\"+str(i)+\"].getElementsByClassName('_1HQD2bGG')[0].childElementCount\"))\n",
    "            for j in range(noOfOtherDetails):\n",
    "                typeOfStat = browser.execute_script(\"return document.getElementsByClassName('_2wrUUKlw')[\"+str(i)+\"].getElementsByClassName('_1HQD2bGG')[0].children[\"+str(j)+\"].innerText\")\n",
    "                value = int(browser.execute_script(\"return document.getElementsByClassName('_2wrUUKlw')[\"+str(i)+\"].getElementsByClassName('_1HQD2bGG')[0].getElementsByClassName('_3-8hSrXs')[\"+str(j)+\"].firstElementChild.classList[1]\").replace(\"bubble_\",\"\"))/10\n",
    "                if(typeOfStat.find('Value')>-1):\n",
    "                    Value_rating.append(value)\n",
    "                elif(typeOfStat.find('Location')>-1):\n",
    "                    Location_rating.append(value)\n",
    "                elif(typeOfStat.find('Service')>-1):\n",
    "                    Service_rating.append(value)\n",
    "                elif(typeOfStat.find('Cleanliness')>-1):\n",
    "                    Cleanliness_rating.append(value)\n",
    "                elif(typeOfStat.find('Room')>-1):\n",
    "                    Rooms_rating.append(value)\n",
    "                elif(typeOfStat.find('Sleep')>-1):\n",
    "                    Sleep_Quality_rating.append(value)\n",
    "            if(len(Value_rating)<(i+1+expected_len)):\n",
    "                Value_rating.append('')\n",
    "            if(len(Location_rating)<(i+1+expected_len)):\n",
    "                Location_rating.append('')\n",
    "            if(len(Service_rating)<(i+1+expected_len)):\n",
    "                Service_rating.append('')\n",
    "            if(len(Rooms_rating)<(i+1+expected_len)):\n",
    "                Rooms_rating.append('')\n",
    "            if(len(Sleep_Quality_rating)<(i+1+expected_len)):\n",
    "                Sleep_Quality_rating.append('')\n",
    "            if(len(Cleanliness_rating)<(i+1+expected_len)):\n",
    "                Cleanliness_rating.append('')\n",
    "\n",
    "                    \n",
    "        else:\n",
    "            Location_rating.append('')\n",
    "            Service_rating.append('')\n",
    "            Cleanliness_rating.append('')\n",
    "            Rooms_rating.append('')\n",
    "            Sleep_Quality_rating.append('')\n",
    "            Value_rating.append('')\n",
    "    expected_len += len(browser.execute_script(\"return document.getElementsByClassName('_2wrUUKlw')\"))\n",
    "    "
   ]
  },
  {
   "cell_type": "code",
   "execution_count": 114,
   "metadata": {},
   "outputs": [],
   "source": [
    "# review_date,review_title,review_text,rating,date_of_stay,trip_type,reviewer_name,sizeOfBar,contribuiton,help_full_votes,location_reviewer,\n",
    "# Location_rating,Service_rating,Cleanliness_rating,Rooms_rating ,Sleep_Quality_rating,Value_rating "
   ]
  },
  {
   "cell_type": "code",
   "execution_count": 115,
   "metadata": {},
   "outputs": [],
   "source": [
    "# Location_rating,Service_rating,Cleanliness_rating,Rooms_rating ,Sleep_Quality_rating,Value_rating "
   ]
  },
  {
   "cell_type": "code",
   "execution_count": null,
   "metadata": {},
   "outputs": [],
   "source": []
  }
 ],
 "metadata": {
  "kernelspec": {
   "display_name": "Python 3",
   "language": "python",
   "name": "python3"
  },
  "language_info": {
   "codemirror_mode": {
    "name": "ipython",
    "version": 3
   },
   "file_extension": ".py",
   "mimetype": "text/x-python",
   "name": "python",
   "nbconvert_exporter": "python",
   "pygments_lexer": "ipython3",
   "version": "3.8.6-final"
  }
 },
 "nbformat": 4,
 "nbformat_minor": 4
}