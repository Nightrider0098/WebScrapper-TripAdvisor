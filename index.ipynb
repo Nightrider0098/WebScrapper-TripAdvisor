{
 "cells": [
  {
   "cell_type": "code",
   "execution_count": 1,
   "metadata": {},
   "outputs": [
    {
     "output_type": "stream",
     "name": "stdout",
     "text": [
      "Requirement already satisfied: selenium in /home/hitesh/.local/lib/python3.8/site-packages (3.141.0)\n",
      "Requirement already satisfied: urllib3 in /home/hitesh/.local/lib/python3.8/site-packages (from selenium) (1.25.10)\n",
      "Requirement already satisfied: pandas in /home/hitesh/.local/lib/python3.8/site-packages (1.2.1)\n",
      "Requirement already satisfied: numpy>=1.16.5 in /home/hitesh/.local/lib/python3.8/site-packages (from pandas) (1.20.0)\n",
      "Collecting pytz>=2017.3\n",
      "  Downloading pytz-2021.1-py2.py3-none-any.whl (510 kB)\n",
      "\u001b[K     |████████████████████████████████| 510 kB 1.8 MB/s \n",
      "\u001b[?25hRequirement already satisfied: python-dateutil>=2.7.3 in /usr/lib/python3/dist-packages (from pandas) (2.8.1)\n",
      "Installing collected packages: pytz\n",
      "Successfully installed pytz-2021.1\n"
     ]
    }
   ],
   "source": [
    "!pip install selenium\n",
    "!pip install pandas"
   ]
  },
  {
   "cell_type": "code",
   "execution_count": 2,
   "metadata": {},
   "outputs": [],
   "source": [
    "CHROMEDRIVER_PATH=\"./chromedriver\""
   ]
  },
  {
   "cell_type": "code",
   "execution_count": 3,
   "metadata": {},
   "outputs": [],
   "source": [
    "from selenium import webdriver       \n",
    "import time  \n",
    "import pandas as pd\n",
    "from selenium.webdriver.common.by import By\n",
    "from selenium.webdriver.chrome.options import Options\n",
    "\n"
   ]
  },
  {
   "cell_type": "code",
   "execution_count": 12,
   "metadata": {},
   "outputs": [],
   "source": [
    "# declaring the columns\n",
    "review_date = []\n",
    "review_title=[]\n",
    "review_text=[]\n",
    "rating=[]\n",
    "date_of_stay=[]\n",
    "trip_type=[]\n",
    "reviewer_name=[]\n",
    "contribution=[]\n",
    "help_full_votes=[]\n",
    "location_reviewer=[]\n",
    "Location_rating = []\n",
    "Service_rating = []\n",
    "Cleanliness_rating = []\n",
    "Rooms_rating = []\n",
    "Sleep_Quality_rating = []\n",
    "Value_rating =[]"
   ]
  },
  {
   "cell_type": "code",
   "execution_count": 13,
   "metadata": {},
   "outputs": [],
   "source": [
    "\n",
    "options = Options()\n",
    "options.add_argument('--headless')\n",
    "options.add_argument('--disable-gpu')\n",
    "browser = webdriver.Chrome(CHROMEDRIVER_PATH)\n",
    "browser.get('https://www.tripadvisor.in/Hotel_Review-g297586-d1879037-Reviews-Lemon_Tree_Premier_HITEC_City-Hyderabad_Hyderabad_District_Telangana.html') "
   ]
  },
  {
   "cell_type": "code",
   "execution_count": 30,
   "metadata": {},
   "outputs": [],
   "source": [
    "hotel_name = browser.execute_script(\"return document.getElementsByClassName('_1mTlpMC3')[0]? ( document.getElementsByClassName('_1mTlpMC3')[0].innerText):( 'cannotFind')\")"
   ]
  },
  {
   "cell_type": "code",
   "execution_count": 31,
   "metadata": {},
   "outputs": [],
   "source": [
    "hotel_location = browser.execute_script(\"return document.getElementsByClassName('_3ErVArsu jke2_wbp')[0]? ( document.getElementsByClassName('_3ErVArsu jke2_wbp')[0].innerText):( 'cannotFind')\")"
   ]
  },
  {
   "cell_type": "code",
   "execution_count": 32,
   "metadata": {},
   "outputs": [],
   "source": [
    "for i in range(len(browser.execute_script(\"return document.getElementsByClassName('_2wrUUKlw')\"))):\n",
    "    review_date.append( browser.execute_script(\"return document.getElementsByClassName('_2fxQ4TOx')[\"+str(i)+\"].innerText\").replace(browser.execute_script(\"return document.getElementsByClassName('ui_header_link _1r_My98y')[\"+str(i)+\"].innerText\"),'').replace(\" wrote a review \",\"\"))"
   ]
  },
  {
   "cell_type": "code",
   "execution_count": 33,
   "metadata": {},
   "outputs": [],
   "source": [
    "for i in range(len(browser.execute_script(\"return document.getElementsByClassName('_2wrUUKlw')\"))):\n",
    "    review_title.append( browser.execute_script(\"return document.getElementsByClassName('glasR4aX')[\"+str(i)+\"].innerText\"))"
   ]
  },
  {
   "cell_type": "code",
   "execution_count": 34,
   "metadata": {},
   "outputs": [],
   "source": [
    "for i in range(len(browser.execute_script(\"return document.getElementsByClassName('_2wrUUKlw')\"))):\n",
    "    review_text.append( browser.execute_script(\"return document.getElementsByClassName('IRsGHoPm')[\"+str(i)+\"].innerText\"))"
   ]
  },
  {
   "cell_type": "code",
   "execution_count": 35,
   "metadata": {},
   "outputs": [],
   "source": [
    "for i in range(len(browser.execute_script(\"return document.getElementsByClassName('_2wrUUKlw')\"))):\n",
    "    rating.append( int(browser.execute_script(\"return document.getElementsByClassName('nf9vGX55')[\"+str(i)+\"].firstElementChild.classList[1]\").replace(\"bubble_\",\"\"))/10)"
   ]
  },
  {
   "cell_type": "code",
   "execution_count": 36,
   "metadata": {},
   "outputs": [],
   "source": [
    "for i in range(len(browser.execute_script(\"return document.getElementsByClassName('_2wrUUKlw')\"))):\n",
    "    date_of_stay.append( browser.execute_script(\"return  document.getElementsByClassName('_2wrUUKlw')[\"+str(i)+\"].getElementsByClassName('_34Xs-BQm').length===1 ?document.getElementsByClassName('_2wrUUKlw')[\"+str(i)+\"].getElementsByClassName('_34Xs-BQm')[0].innerText: ''\").replace(browser.execute_script(\"return document.getElementsByClassName('_2wrUUKlw')[\"+str(i)+\"].getElementsByClassName('_355y0nZn')[0].innerText\"),'')[1:])"
   ]
  },
  {
   "cell_type": "code",
   "execution_count": 37,
   "metadata": {},
   "outputs": [],
   "source": [
    "for i in range(len(browser.execute_script(\"return document.getElementsByClassName('_2wrUUKlw')\"))):\n",
    "    trip_type.append( browser.execute_script(\"return document.getElementsByClassName('_2wrUUKlw')[\"+str(i)+\"].getElementsByClassName('_2bVY3aT5').length===1?document.getElementsByClassName('_2wrUUKlw')[\"+str(i)+\"].getElementsByClassName('_2bVY3aT5')[0].innerText: ''\").replace(browser.execute_script(\"return document.getElementsByClassName('_2wrUUKlw')[\"+str(i)+\"].getElementsByClassName('trip_type_label')[0].innerText\"),'').replace('Travelled',\"\").replace('as a','').replace('on','').replace('with','').replace(\" \",''))"
   ]
  },
  {
   "cell_type": "code",
   "execution_count": 38,
   "metadata": {},
   "outputs": [],
   "source": [
    "for i in range(len(browser.execute_script(\"return document.getElementsByClassName('_2wrUUKlw')\"))):\n",
    "    reviewer_name.append(browser.execute_script(\"return document.getElementsByClassName('_2wrUUKlw')[\"+str(i)+\"].getElementsByClassName('ui_header_link _1r_My98y')[0].innerText\"))"
   ]
  },
  {
   "cell_type": "code",
   "execution_count": 39,
   "metadata": {},
   "outputs": [],
   "source": [
    "for i in range(len(browser.execute_script(\"return document.getElementsByClassName('_2wrUUKlw')\"))):\n",
    "    sizeOfBar = browser.execute_script( \"return document.getElementsByClassName('_2wrUUKlw')[\"+str(i)+\"].getElementsByClassName('_1EpRX7o3').length>0? document.getElementsByClassName('_2wrUUKlw')[\"+str(i)+\"].getElementsByClassName('_1EpRX7o3')[0].childElementCount : 0\")\n",
    "    for element in range(int(sizeOfBar)):\n",
    "        name = browser.execute_script( \"return document.getElementsByClassName('_2wrUUKlw')[\"+str(i)+\"].getElementsByClassName('_1EpRX7o3')[0].childNodes[\"+str(element)+\"].innerText\")\n",
    "        if (name.find('contribution') > (-1)): \n",
    "            contribution.append(int(name.replace('contribution','').replace('s','')))\n",
    "        \n",
    "        elif (name.find('helpful votes') >(-1)):\n",
    "            help_full_votes.append(int(name.replace('helpful vote','').replace('s','')))\n",
    "        \n",
    "        else :\n",
    "            location_reviewer.append(name)\n",
    "    if len(contribution) < (i+1):\n",
    "        contribution.append('')\n",
    "    if len(help_full_votes) < (i+1):\n",
    "        help_full_votes.append('')\n",
    "    if len(location_reviewer) < (i+1):\n",
    "        location_reviewer.append('')\n",
    "        \n"
   ]
  },
  {
   "cell_type": "code",
   "execution_count": 40,
   "metadata": {},
   "outputs": [],
   "source": [
    "\n",
    "expected_len = 0\n",
    "for i in range(len(browser.execute_script(\"return document.getElementsByClassName('_2wrUUKlw')\"))):\n",
    "    browser.execute_script(\" document.getElementsByClassName('_2wrUUKlw')[\"+str(i)+\"].getElementsByClassName('_3maEfNCR')[0].click()\")\n",
    "    hasOtherDetails = int(browser.execute_script(\"return document.getElementsByClassName('_2wrUUKlw')[\"+str(i)+\"].getElementsByClassName('_1HQD2bGG').length\"))\n",
    "    if hasOtherDetails>0:\n",
    "        noOfOtherDetails=  int(browser.execute_script(\"return document.getElementsByClassName('_2wrUUKlw')[\"+str(i)+\"].getElementsByClassName('_1HQD2bGG')[0].childElementCount\"))\n",
    "        for j in range(noOfOtherDetails):\n",
    "            typeOfStat = browser.execute_script(\"return document.getElementsByClassName('_2wrUUKlw')[\"+str(i)+\"].getElementsByClassName('_1HQD2bGG')[0].children[\"+str(j)+\"].innerText\")\n",
    "            value = int(browser.execute_script(\"return document.getElementsByClassName('_2wrUUKlw')[\"+str(i)+\"].getElementsByClassName('_1HQD2bGG')[0].getElementsByClassName('_3-8hSrXs')[\"+str(j)+\"].firstElementChild.classList[1]\").replace(\"bubble_\",\"\"))/10\n",
    "            if(typeOfStat.find('Value')>-1):\n",
    "                Value_rating.append(value)\n",
    "            elif(typeOfStat.find('Location')>-1):\n",
    "                Location_rating.append(value)\n",
    "            elif(typeOfStat.find('Service')>-1):\n",
    "                Service_rating.append(value)\n",
    "            elif(typeOfStat.find('Cleanliness')>-1):\n",
    "                Cleanliness_rating.append(value)\n",
    "            elif(typeOfStat.find('Room')>-1):\n",
    "                Rooms_rating.append(value)\n",
    "            elif(typeOfStat.find('Sleep')>-1):\n",
    "                Sleep_Quality_rating.append(value)\n",
    "        if(len(Value_rating)<(i+1+expected_len)):\n",
    "            Value_rating.append('')\n",
    "        if(len(Location_rating)<(i+1+expected_len)):\n",
    "            Location_rating.append('')\n",
    "        if(len(Service_rating)<(i+1+expected_len)):\n",
    "            Service_rating.append('')\n",
    "        if(len(Rooms_rating)<(i+1+expected_len)):\n",
    "            Rooms_rating.append('')\n",
    "        if(len(Sleep_Quality_rating)<(i+1+expected_len)):\n",
    "            Sleep_Quality_rating.append('')\n",
    "        if(len(Cleanliness_rating)<(i+1+expected_len)):\n",
    "            Cleanliness_rating.append('')\n",
    "\n",
    "                \n",
    "    else:\n",
    "        Location_rating.append('')\n",
    "        Service_rating.append('')\n",
    "        Cleanliness_rating.append('')\n",
    "        Rooms_rating.append('')\n",
    "        Sleep_Quality_rating.append('')\n",
    "        Value_rating.append('')\n",
    "    \n"
   ]
  },
  {
   "cell_type": "code",
   "execution_count": 10,
   "metadata": {},
   "outputs": [],
   "source": [
    "# clearing of all the data111\n",
    "review_date = []\n",
    "review_title=[]\n",
    "review_text=[]\n",
    "rating=[]\n",
    "date_of_stay=[]\n",
    "trip_type=[]\n",
    "reviewer_name=[]\n",
    "contribution=[]\n",
    "help_full_votes=[]\n",
    "location_reviewer=[]\n",
    "Location_rating = []\n",
    "Service_rating = []\n",
    "Cleanliness_rating = []\n",
    "Rooms_rating = []\n",
    "Sleep_Quality_rating = []\n",
    "Value_rating =[]"
   ]
  },
  {
   "cell_type": "code",
   "execution_count": 21,
   "metadata": {},
   "outputs": [],
   "source": [
    "\n",
    "from selenium.webdriver.support.ui import WebDriverWait\n",
    "\n",
    "class wait_for_new_api(object):\n",
    "  \"\"\"An expectation for checking that an element has a particular css class.\n",
    "\n",
    "  locator - used to find the element\n",
    "  returns the WebElement once it has the particular css class\n",
    "  \"\"\"\n",
    "  def __init__(self):\n",
    "    pass\n",
    "\n",
    "  def __call__(self, driver):\n",
    "    element = driver.execute_script(\"return document.getElementsByClassName('_310S4sqz')&&document.getElementsByClassName('_310S4sqz').length==5 \")   # Finding the referenced element\n",
    "    if element == True :\n",
    "        return element\n",
    "    else:\n",
    "        return False\n",
    "\n",
    "# Wait until an element with id='myNewInput' has class 'myCSSClass'\n"
   ]
  },
  {
   "cell_type": "code",
   "execution_count": 22,
   "metadata": {},
   "outputs": [
    {
     "output_type": "stream",
     "name": "stdout",
     "text": [
      "True <class 'bool'>\n",
      "Pleasant stay\n",
      "True <class 'bool'>\n",
      "Friend in need is a friend indeed\n",
      "True <class 'bool'>\n",
      "Professor Neeta Rajput\n",
      "True <class 'bool'>\n",
      "Lemon Tree Premier Hitech City Very Good\n",
      "True <class 'bool'>\n",
      "Excellent\n",
      "True <class 'bool'>\n",
      "Best Assistance by crew member Navya\n",
      "True <class 'bool'>\n",
      "Booked it for business trip - 5 nights\n",
      "True <class 'bool'>\n",
      "Great Room Service by Sattwaki\n",
      "True <class 'bool'>\n",
      "Great stay\n",
      "True <class 'bool'>\n",
      "Room 908\n",
      "True <class 'bool'>\n",
      "Hotel Services - Lemontree Hotel Hitec City\n",
      "True <class 'bool'>\n",
      "LIC HOUSING FINANCE LTD\n",
      "True <class 'bool'>\n",
      "excellent stay and a beautiful experience\n",
      "True <class 'bool'>\n",
      "Good hospitality\n",
      "True <class 'bool'>\n",
      "great\n",
      "True <class 'bool'>\n",
      "Comfortable stay with good service and Excellent staff!!!\n",
      "True <class 'bool'>\n",
      "Extrodrinary Service of Akram\n",
      "True <class 'bool'>\n",
      "review\n",
      "True <class 'bool'>\n",
      "Marvellous experience\n",
      "True <class 'bool'>\n",
      "Appreciation for hospitality!\n",
      "True <class 'bool'>\n",
      "Execelent services\n",
      "True <class 'bool'>\n",
      "During Lockdown Stayed at Lemon tree at Banjara Hills and Lemon Premier, Hitech city\n",
      "True <class 'bool'>\n",
      "Excellent service during COVID 19\n",
      "True <class 'bool'>\n",
      "The best birthday ever\n",
      "True <class 'bool'>\n",
      "Lemon tree premier hotel\n",
      "True <class 'bool'>\n",
      "Amazing hospitality\n",
      "True <class 'bool'>\n",
      "Good\n",
      "True <class 'bool'>\n",
      "Good\n",
      "True <class 'bool'>\n",
      "Had a snack and food\n",
      "True <class 'bool'>\n",
      "My first stay in Lemon tree premier in Hyderabad\n"
     ]
    },
    {
     "output_type": "error",
     "ename": "KeyboardInterrupt",
     "evalue": "",
     "traceback": [
      "\u001b[0;31m---------------------------------------------------------------------------\u001b[0m",
      "\u001b[0;31mKeyboardInterrupt\u001b[0m                         Traceback (most recent call last)",
      "\u001b[0;32m<ipython-input-22-492b512086a7>\u001b[0m in \u001b[0;36m<module>\u001b[0;34m\u001b[0m\n\u001b[1;32m      9\u001b[0m         \u001b[0;32mfor\u001b[0m \u001b[0mi\u001b[0m \u001b[0;32min\u001b[0m \u001b[0mrange\u001b[0m\u001b[0;34m(\u001b[0m\u001b[0mlen\u001b[0m\u001b[0;34m(\u001b[0m\u001b[0mbrowser\u001b[0m\u001b[0;34m.\u001b[0m\u001b[0mexecute_script\u001b[0m\u001b[0;34m(\u001b[0m\u001b[0;34m\"return document.getElementsByClassName('_2wrUUKlw')\"\u001b[0m\u001b[0;34m)\u001b[0m\u001b[0;34m)\u001b[0m\u001b[0;34m)\u001b[0m\u001b[0;34m:\u001b[0m\u001b[0;34m\u001b[0m\u001b[0;34m\u001b[0m\u001b[0m\n\u001b[1;32m     10\u001b[0m \u001b[0;34m\u001b[0m\u001b[0m\n\u001b[0;32m---> 11\u001b[0;31m             \u001b[0mbrowser\u001b[0m\u001b[0;34m.\u001b[0m\u001b[0mexecute_script\u001b[0m\u001b[0;34m(\u001b[0m\u001b[0;34m\" document.getElementsByClassName('_2wrUUKlw')[\"\u001b[0m\u001b[0;34m+\u001b[0m\u001b[0mstr\u001b[0m\u001b[0;34m(\u001b[0m\u001b[0mi\u001b[0m\u001b[0;34m)\u001b[0m\u001b[0;34m+\u001b[0m\u001b[0;34m\"].getElementsByClassName('_3maEfNCR')[0].innerText === 'Read more'? document.getElementsByClassName('_2wrUUKlw')[\"\u001b[0m\u001b[0;34m+\u001b[0m\u001b[0mstr\u001b[0m\u001b[0;34m(\u001b[0m\u001b[0mi\u001b[0m\u001b[0;34m)\u001b[0m\u001b[0;34m+\u001b[0m\u001b[0;34m\"].getElementsByClassName('_3maEfNCR')[0].click() : '' \"\u001b[0m\u001b[0;34m)\u001b[0m\u001b[0;34m\u001b[0m\u001b[0;34m\u001b[0m\u001b[0m\n\u001b[0m\u001b[1;32m     12\u001b[0m \u001b[0;34m\u001b[0m\u001b[0m\n\u001b[1;32m     13\u001b[0m             \u001b[0mreview_date\u001b[0m\u001b[0;34m.\u001b[0m\u001b[0mappend\u001b[0m\u001b[0;34m(\u001b[0m \u001b[0mbrowser\u001b[0m\u001b[0;34m.\u001b[0m\u001b[0mexecute_script\u001b[0m\u001b[0;34m(\u001b[0m\u001b[0;34m\"return document.getElementsByClassName('_2fxQ4TOx')[\"\u001b[0m\u001b[0;34m+\u001b[0m\u001b[0mstr\u001b[0m\u001b[0;34m(\u001b[0m\u001b[0mi\u001b[0m\u001b[0;34m)\u001b[0m\u001b[0;34m+\u001b[0m\u001b[0;34m\"].innerText\"\u001b[0m\u001b[0;34m)\u001b[0m\u001b[0;34m.\u001b[0m\u001b[0mreplace\u001b[0m\u001b[0;34m(\u001b[0m\u001b[0mbrowser\u001b[0m\u001b[0;34m.\u001b[0m\u001b[0mexecute_script\u001b[0m\u001b[0;34m(\u001b[0m\u001b[0;34m\"return document.getElementsByClassName('ui_header_link _1r_My98y')[\"\u001b[0m\u001b[0;34m+\u001b[0m\u001b[0mstr\u001b[0m\u001b[0;34m(\u001b[0m\u001b[0mi\u001b[0m\u001b[0;34m)\u001b[0m\u001b[0;34m+\u001b[0m\u001b[0;34m\"].innerText\"\u001b[0m\u001b[0;34m)\u001b[0m\u001b[0;34m,\u001b[0m\u001b[0;34m''\u001b[0m\u001b[0;34m)\u001b[0m\u001b[0;34m.\u001b[0m\u001b[0mreplace\u001b[0m\u001b[0;34m(\u001b[0m\u001b[0;34m\" wrote a review \"\u001b[0m\u001b[0;34m,\u001b[0m\u001b[0;34m\"\"\u001b[0m\u001b[0;34m)\u001b[0m\u001b[0;34m)\u001b[0m\u001b[0;34m\u001b[0m\u001b[0;34m\u001b[0m\u001b[0m\n",
      "\u001b[0;32m~/.local/lib/python3.8/site-packages/selenium/webdriver/remote/webdriver.py\u001b[0m in \u001b[0;36mexecute_script\u001b[0;34m(self, script, *args)\u001b[0m\n\u001b[1;32m    632\u001b[0m             \u001b[0mcommand\u001b[0m \u001b[0;34m=\u001b[0m \u001b[0mCommand\u001b[0m\u001b[0;34m.\u001b[0m\u001b[0mEXECUTE_SCRIPT\u001b[0m\u001b[0;34m\u001b[0m\u001b[0;34m\u001b[0m\u001b[0m\n\u001b[1;32m    633\u001b[0m \u001b[0;34m\u001b[0m\u001b[0m\n\u001b[0;32m--> 634\u001b[0;31m         return self.execute(command, {\n\u001b[0m\u001b[1;32m    635\u001b[0m             \u001b[0;34m'script'\u001b[0m\u001b[0;34m:\u001b[0m \u001b[0mscript\u001b[0m\u001b[0;34m,\u001b[0m\u001b[0;34m\u001b[0m\u001b[0;34m\u001b[0m\u001b[0m\n\u001b[1;32m    636\u001b[0m             'args': converted_args})['value']\n",
      "\u001b[0;32m~/.local/lib/python3.8/site-packages/selenium/webdriver/remote/webdriver.py\u001b[0m in \u001b[0;36mexecute\u001b[0;34m(self, driver_command, params)\u001b[0m\n\u001b[1;32m    317\u001b[0m \u001b[0;34m\u001b[0m\u001b[0m\n\u001b[1;32m    318\u001b[0m         \u001b[0mparams\u001b[0m \u001b[0;34m=\u001b[0m \u001b[0mself\u001b[0m\u001b[0;34m.\u001b[0m\u001b[0m_wrap_value\u001b[0m\u001b[0;34m(\u001b[0m\u001b[0mparams\u001b[0m\u001b[0;34m)\u001b[0m\u001b[0;34m\u001b[0m\u001b[0;34m\u001b[0m\u001b[0m\n\u001b[0;32m--> 319\u001b[0;31m         \u001b[0mresponse\u001b[0m \u001b[0;34m=\u001b[0m \u001b[0mself\u001b[0m\u001b[0;34m.\u001b[0m\u001b[0mcommand_executor\u001b[0m\u001b[0;34m.\u001b[0m\u001b[0mexecute\u001b[0m\u001b[0;34m(\u001b[0m\u001b[0mdriver_command\u001b[0m\u001b[0;34m,\u001b[0m \u001b[0mparams\u001b[0m\u001b[0;34m)\u001b[0m\u001b[0;34m\u001b[0m\u001b[0;34m\u001b[0m\u001b[0m\n\u001b[0m\u001b[1;32m    320\u001b[0m         \u001b[0;32mif\u001b[0m \u001b[0mresponse\u001b[0m\u001b[0;34m:\u001b[0m\u001b[0;34m\u001b[0m\u001b[0;34m\u001b[0m\u001b[0m\n\u001b[1;32m    321\u001b[0m             \u001b[0mself\u001b[0m\u001b[0;34m.\u001b[0m\u001b[0merror_handler\u001b[0m\u001b[0;34m.\u001b[0m\u001b[0mcheck_response\u001b[0m\u001b[0;34m(\u001b[0m\u001b[0mresponse\u001b[0m\u001b[0;34m)\u001b[0m\u001b[0;34m\u001b[0m\u001b[0;34m\u001b[0m\u001b[0m\n",
      "\u001b[0;32m~/.local/lib/python3.8/site-packages/selenium/webdriver/remote/remote_connection.py\u001b[0m in \u001b[0;36mexecute\u001b[0;34m(self, command, params)\u001b[0m\n\u001b[1;32m    372\u001b[0m         \u001b[0mdata\u001b[0m \u001b[0;34m=\u001b[0m \u001b[0mutils\u001b[0m\u001b[0;34m.\u001b[0m\u001b[0mdump_json\u001b[0m\u001b[0;34m(\u001b[0m\u001b[0mparams\u001b[0m\u001b[0;34m)\u001b[0m\u001b[0;34m\u001b[0m\u001b[0;34m\u001b[0m\u001b[0m\n\u001b[1;32m    373\u001b[0m         \u001b[0murl\u001b[0m \u001b[0;34m=\u001b[0m \u001b[0;34m'%s%s'\u001b[0m \u001b[0;34m%\u001b[0m \u001b[0;34m(\u001b[0m\u001b[0mself\u001b[0m\u001b[0;34m.\u001b[0m\u001b[0m_url\u001b[0m\u001b[0;34m,\u001b[0m \u001b[0mpath\u001b[0m\u001b[0;34m)\u001b[0m\u001b[0;34m\u001b[0m\u001b[0;34m\u001b[0m\u001b[0m\n\u001b[0;32m--> 374\u001b[0;31m         \u001b[0;32mreturn\u001b[0m \u001b[0mself\u001b[0m\u001b[0;34m.\u001b[0m\u001b[0m_request\u001b[0m\u001b[0;34m(\u001b[0m\u001b[0mcommand_info\u001b[0m\u001b[0;34m[\u001b[0m\u001b[0;36m0\u001b[0m\u001b[0;34m]\u001b[0m\u001b[0;34m,\u001b[0m \u001b[0murl\u001b[0m\u001b[0;34m,\u001b[0m \u001b[0mbody\u001b[0m\u001b[0;34m=\u001b[0m\u001b[0mdata\u001b[0m\u001b[0;34m)\u001b[0m\u001b[0;34m\u001b[0m\u001b[0;34m\u001b[0m\u001b[0m\n\u001b[0m\u001b[1;32m    375\u001b[0m \u001b[0;34m\u001b[0m\u001b[0m\n\u001b[1;32m    376\u001b[0m     \u001b[0;32mdef\u001b[0m \u001b[0m_request\u001b[0m\u001b[0;34m(\u001b[0m\u001b[0mself\u001b[0m\u001b[0;34m,\u001b[0m \u001b[0mmethod\u001b[0m\u001b[0;34m,\u001b[0m \u001b[0murl\u001b[0m\u001b[0;34m,\u001b[0m \u001b[0mbody\u001b[0m\u001b[0;34m=\u001b[0m\u001b[0;32mNone\u001b[0m\u001b[0;34m)\u001b[0m\u001b[0;34m:\u001b[0m\u001b[0;34m\u001b[0m\u001b[0;34m\u001b[0m\u001b[0m\n",
      "\u001b[0;32m~/.local/lib/python3.8/site-packages/selenium/webdriver/remote/remote_connection.py\u001b[0m in \u001b[0;36m_request\u001b[0;34m(self, method, url, body)\u001b[0m\n\u001b[1;32m    395\u001b[0m \u001b[0;34m\u001b[0m\u001b[0m\n\u001b[1;32m    396\u001b[0m         \u001b[0;32mif\u001b[0m \u001b[0mself\u001b[0m\u001b[0;34m.\u001b[0m\u001b[0mkeep_alive\u001b[0m\u001b[0;34m:\u001b[0m\u001b[0;34m\u001b[0m\u001b[0;34m\u001b[0m\u001b[0m\n\u001b[0;32m--> 397\u001b[0;31m             \u001b[0mresp\u001b[0m \u001b[0;34m=\u001b[0m \u001b[0mself\u001b[0m\u001b[0;34m.\u001b[0m\u001b[0m_conn\u001b[0m\u001b[0;34m.\u001b[0m\u001b[0mrequest\u001b[0m\u001b[0;34m(\u001b[0m\u001b[0mmethod\u001b[0m\u001b[0;34m,\u001b[0m \u001b[0murl\u001b[0m\u001b[0;34m,\u001b[0m \u001b[0mbody\u001b[0m\u001b[0;34m=\u001b[0m\u001b[0mbody\u001b[0m\u001b[0;34m,\u001b[0m \u001b[0mheaders\u001b[0m\u001b[0;34m=\u001b[0m\u001b[0mheaders\u001b[0m\u001b[0;34m)\u001b[0m\u001b[0;34m\u001b[0m\u001b[0;34m\u001b[0m\u001b[0m\n\u001b[0m\u001b[1;32m    398\u001b[0m \u001b[0;34m\u001b[0m\u001b[0m\n\u001b[1;32m    399\u001b[0m             \u001b[0mstatuscode\u001b[0m \u001b[0;34m=\u001b[0m \u001b[0mresp\u001b[0m\u001b[0;34m.\u001b[0m\u001b[0mstatus\u001b[0m\u001b[0;34m\u001b[0m\u001b[0;34m\u001b[0m\u001b[0m\n",
      "\u001b[0;32m~/.local/lib/python3.8/site-packages/urllib3/request.py\u001b[0m in \u001b[0;36mrequest\u001b[0;34m(self, method, url, fields, headers, **urlopen_kw)\u001b[0m\n\u001b[1;32m     77\u001b[0m             )\n\u001b[1;32m     78\u001b[0m         \u001b[0;32melse\u001b[0m\u001b[0;34m:\u001b[0m\u001b[0;34m\u001b[0m\u001b[0;34m\u001b[0m\u001b[0m\n\u001b[0;32m---> 79\u001b[0;31m             return self.request_encode_body(\n\u001b[0m\u001b[1;32m     80\u001b[0m                 \u001b[0mmethod\u001b[0m\u001b[0;34m,\u001b[0m \u001b[0murl\u001b[0m\u001b[0;34m,\u001b[0m \u001b[0mfields\u001b[0m\u001b[0;34m=\u001b[0m\u001b[0mfields\u001b[0m\u001b[0;34m,\u001b[0m \u001b[0mheaders\u001b[0m\u001b[0;34m=\u001b[0m\u001b[0mheaders\u001b[0m\u001b[0;34m,\u001b[0m \u001b[0;34m**\u001b[0m\u001b[0murlopen_kw\u001b[0m\u001b[0;34m\u001b[0m\u001b[0;34m\u001b[0m\u001b[0m\n\u001b[1;32m     81\u001b[0m             )\n",
      "\u001b[0;32m~/.local/lib/python3.8/site-packages/urllib3/request.py\u001b[0m in \u001b[0;36mrequest_encode_body\u001b[0;34m(self, method, url, fields, headers, encode_multipart, multipart_boundary, **urlopen_kw)\u001b[0m\n\u001b[1;32m    169\u001b[0m         \u001b[0mextra_kw\u001b[0m\u001b[0;34m.\u001b[0m\u001b[0mupdate\u001b[0m\u001b[0;34m(\u001b[0m\u001b[0murlopen_kw\u001b[0m\u001b[0;34m)\u001b[0m\u001b[0;34m\u001b[0m\u001b[0;34m\u001b[0m\u001b[0m\n\u001b[1;32m    170\u001b[0m \u001b[0;34m\u001b[0m\u001b[0m\n\u001b[0;32m--> 171\u001b[0;31m         \u001b[0;32mreturn\u001b[0m \u001b[0mself\u001b[0m\u001b[0;34m.\u001b[0m\u001b[0murlopen\u001b[0m\u001b[0;34m(\u001b[0m\u001b[0mmethod\u001b[0m\u001b[0;34m,\u001b[0m \u001b[0murl\u001b[0m\u001b[0;34m,\u001b[0m \u001b[0;34m**\u001b[0m\u001b[0mextra_kw\u001b[0m\u001b[0;34m)\u001b[0m\u001b[0;34m\u001b[0m\u001b[0;34m\u001b[0m\u001b[0m\n\u001b[0m",
      "\u001b[0;32m~/.local/lib/python3.8/site-packages/urllib3/poolmanager.py\u001b[0m in \u001b[0;36murlopen\u001b[0;34m(self, method, url, redirect, **kw)\u001b[0m\n\u001b[1;32m    334\u001b[0m             \u001b[0mresponse\u001b[0m \u001b[0;34m=\u001b[0m \u001b[0mconn\u001b[0m\u001b[0;34m.\u001b[0m\u001b[0murlopen\u001b[0m\u001b[0;34m(\u001b[0m\u001b[0mmethod\u001b[0m\u001b[0;34m,\u001b[0m \u001b[0murl\u001b[0m\u001b[0;34m,\u001b[0m \u001b[0;34m**\u001b[0m\u001b[0mkw\u001b[0m\u001b[0;34m)\u001b[0m\u001b[0;34m\u001b[0m\u001b[0;34m\u001b[0m\u001b[0m\n\u001b[1;32m    335\u001b[0m         \u001b[0;32melse\u001b[0m\u001b[0;34m:\u001b[0m\u001b[0;34m\u001b[0m\u001b[0;34m\u001b[0m\u001b[0m\n\u001b[0;32m--> 336\u001b[0;31m             \u001b[0mresponse\u001b[0m \u001b[0;34m=\u001b[0m \u001b[0mconn\u001b[0m\u001b[0;34m.\u001b[0m\u001b[0murlopen\u001b[0m\u001b[0;34m(\u001b[0m\u001b[0mmethod\u001b[0m\u001b[0;34m,\u001b[0m \u001b[0mu\u001b[0m\u001b[0;34m.\u001b[0m\u001b[0mrequest_uri\u001b[0m\u001b[0;34m,\u001b[0m \u001b[0;34m**\u001b[0m\u001b[0mkw\u001b[0m\u001b[0;34m)\u001b[0m\u001b[0;34m\u001b[0m\u001b[0;34m\u001b[0m\u001b[0m\n\u001b[0m\u001b[1;32m    337\u001b[0m \u001b[0;34m\u001b[0m\u001b[0m\n\u001b[1;32m    338\u001b[0m         \u001b[0mredirect_location\u001b[0m \u001b[0;34m=\u001b[0m \u001b[0mredirect\u001b[0m \u001b[0;32mand\u001b[0m \u001b[0mresponse\u001b[0m\u001b[0;34m.\u001b[0m\u001b[0mget_redirect_location\u001b[0m\u001b[0;34m(\u001b[0m\u001b[0;34m)\u001b[0m\u001b[0;34m\u001b[0m\u001b[0;34m\u001b[0m\u001b[0m\n",
      "\u001b[0;32m~/.local/lib/python3.8/site-packages/urllib3/connectionpool.py\u001b[0m in \u001b[0;36murlopen\u001b[0;34m(self, method, url, body, headers, retries, redirect, assert_same_host, timeout, pool_timeout, release_conn, chunked, body_pos, **response_kw)\u001b[0m\n\u001b[1;32m    668\u001b[0m \u001b[0;34m\u001b[0m\u001b[0m\n\u001b[1;32m    669\u001b[0m             \u001b[0;31m# Make the request on the httplib connection object.\u001b[0m\u001b[0;34m\u001b[0m\u001b[0;34m\u001b[0m\u001b[0;34m\u001b[0m\u001b[0m\n\u001b[0;32m--> 670\u001b[0;31m             httplib_response = self._make_request(\n\u001b[0m\u001b[1;32m    671\u001b[0m                 \u001b[0mconn\u001b[0m\u001b[0;34m,\u001b[0m\u001b[0;34m\u001b[0m\u001b[0;34m\u001b[0m\u001b[0m\n\u001b[1;32m    672\u001b[0m                 \u001b[0mmethod\u001b[0m\u001b[0;34m,\u001b[0m\u001b[0;34m\u001b[0m\u001b[0;34m\u001b[0m\u001b[0m\n",
      "\u001b[0;32m~/.local/lib/python3.8/site-packages/urllib3/connectionpool.py\u001b[0m in \u001b[0;36m_make_request\u001b[0;34m(self, conn, method, url, timeout, chunked, **httplib_request_kw)\u001b[0m\n\u001b[1;32m    424\u001b[0m                     \u001b[0;31m# Python 3 (including for exceptions like SystemExit).\u001b[0m\u001b[0;34m\u001b[0m\u001b[0;34m\u001b[0m\u001b[0;34m\u001b[0m\u001b[0m\n\u001b[1;32m    425\u001b[0m                     \u001b[0;31m# Otherwise it looks like a bug in the code.\u001b[0m\u001b[0;34m\u001b[0m\u001b[0;34m\u001b[0m\u001b[0;34m\u001b[0m\u001b[0m\n\u001b[0;32m--> 426\u001b[0;31m                     \u001b[0msix\u001b[0m\u001b[0;34m.\u001b[0m\u001b[0mraise_from\u001b[0m\u001b[0;34m(\u001b[0m\u001b[0me\u001b[0m\u001b[0;34m,\u001b[0m \u001b[0;32mNone\u001b[0m\u001b[0;34m)\u001b[0m\u001b[0;34m\u001b[0m\u001b[0;34m\u001b[0m\u001b[0m\n\u001b[0m\u001b[1;32m    427\u001b[0m         \u001b[0;32mexcept\u001b[0m \u001b[0;34m(\u001b[0m\u001b[0mSocketTimeout\u001b[0m\u001b[0;34m,\u001b[0m \u001b[0mBaseSSLError\u001b[0m\u001b[0;34m,\u001b[0m \u001b[0mSocketError\u001b[0m\u001b[0;34m)\u001b[0m \u001b[0;32mas\u001b[0m \u001b[0me\u001b[0m\u001b[0;34m:\u001b[0m\u001b[0;34m\u001b[0m\u001b[0;34m\u001b[0m\u001b[0m\n\u001b[1;32m    428\u001b[0m             \u001b[0mself\u001b[0m\u001b[0;34m.\u001b[0m\u001b[0m_raise_timeout\u001b[0m\u001b[0;34m(\u001b[0m\u001b[0merr\u001b[0m\u001b[0;34m=\u001b[0m\u001b[0me\u001b[0m\u001b[0;34m,\u001b[0m \u001b[0murl\u001b[0m\u001b[0;34m=\u001b[0m\u001b[0murl\u001b[0m\u001b[0;34m,\u001b[0m \u001b[0mtimeout_value\u001b[0m\u001b[0;34m=\u001b[0m\u001b[0mread_timeout\u001b[0m\u001b[0;34m)\u001b[0m\u001b[0;34m\u001b[0m\u001b[0;34m\u001b[0m\u001b[0m\n",
      "\u001b[0;32m~/.local/lib/python3.8/site-packages/urllib3/packages/six.py\u001b[0m in \u001b[0;36mraise_from\u001b[0;34m(value, from_value)\u001b[0m\n",
      "\u001b[0;32m~/.local/lib/python3.8/site-packages/urllib3/connectionpool.py\u001b[0m in \u001b[0;36m_make_request\u001b[0;34m(self, conn, method, url, timeout, chunked, **httplib_request_kw)\u001b[0m\n\u001b[1;32m    419\u001b[0m                 \u001b[0;31m# Python 3\u001b[0m\u001b[0;34m\u001b[0m\u001b[0;34m\u001b[0m\u001b[0;34m\u001b[0m\u001b[0m\n\u001b[1;32m    420\u001b[0m                 \u001b[0;32mtry\u001b[0m\u001b[0;34m:\u001b[0m\u001b[0;34m\u001b[0m\u001b[0;34m\u001b[0m\u001b[0m\n\u001b[0;32m--> 421\u001b[0;31m                     \u001b[0mhttplib_response\u001b[0m \u001b[0;34m=\u001b[0m \u001b[0mconn\u001b[0m\u001b[0;34m.\u001b[0m\u001b[0mgetresponse\u001b[0m\u001b[0;34m(\u001b[0m\u001b[0;34m)\u001b[0m\u001b[0;34m\u001b[0m\u001b[0;34m\u001b[0m\u001b[0m\n\u001b[0m\u001b[1;32m    422\u001b[0m                 \u001b[0;32mexcept\u001b[0m \u001b[0mBaseException\u001b[0m \u001b[0;32mas\u001b[0m \u001b[0me\u001b[0m\u001b[0;34m:\u001b[0m\u001b[0;34m\u001b[0m\u001b[0;34m\u001b[0m\u001b[0m\n\u001b[1;32m    423\u001b[0m                     \u001b[0;31m# Remove the TypeError from the exception chain in\u001b[0m\u001b[0;34m\u001b[0m\u001b[0;34m\u001b[0m\u001b[0;34m\u001b[0m\u001b[0m\n",
      "\u001b[0;32m/usr/lib/python3.8/http/client.py\u001b[0m in \u001b[0;36mgetresponse\u001b[0;34m(self)\u001b[0m\n\u001b[1;32m   1345\u001b[0m         \u001b[0;32mtry\u001b[0m\u001b[0;34m:\u001b[0m\u001b[0;34m\u001b[0m\u001b[0;34m\u001b[0m\u001b[0m\n\u001b[1;32m   1346\u001b[0m             \u001b[0;32mtry\u001b[0m\u001b[0;34m:\u001b[0m\u001b[0;34m\u001b[0m\u001b[0;34m\u001b[0m\u001b[0m\n\u001b[0;32m-> 1347\u001b[0;31m                 \u001b[0mresponse\u001b[0m\u001b[0;34m.\u001b[0m\u001b[0mbegin\u001b[0m\u001b[0;34m(\u001b[0m\u001b[0;34m)\u001b[0m\u001b[0;34m\u001b[0m\u001b[0;34m\u001b[0m\u001b[0m\n\u001b[0m\u001b[1;32m   1348\u001b[0m             \u001b[0;32mexcept\u001b[0m \u001b[0mConnectionError\u001b[0m\u001b[0;34m:\u001b[0m\u001b[0;34m\u001b[0m\u001b[0;34m\u001b[0m\u001b[0m\n\u001b[1;32m   1349\u001b[0m                 \u001b[0mself\u001b[0m\u001b[0;34m.\u001b[0m\u001b[0mclose\u001b[0m\u001b[0;34m(\u001b[0m\u001b[0;34m)\u001b[0m\u001b[0;34m\u001b[0m\u001b[0;34m\u001b[0m\u001b[0m\n",
      "\u001b[0;32m/usr/lib/python3.8/http/client.py\u001b[0m in \u001b[0;36mbegin\u001b[0;34m(self)\u001b[0m\n\u001b[1;32m    305\u001b[0m         \u001b[0;31m# read until we get a non-100 response\u001b[0m\u001b[0;34m\u001b[0m\u001b[0;34m\u001b[0m\u001b[0;34m\u001b[0m\u001b[0m\n\u001b[1;32m    306\u001b[0m         \u001b[0;32mwhile\u001b[0m \u001b[0;32mTrue\u001b[0m\u001b[0;34m:\u001b[0m\u001b[0;34m\u001b[0m\u001b[0;34m\u001b[0m\u001b[0m\n\u001b[0;32m--> 307\u001b[0;31m             \u001b[0mversion\u001b[0m\u001b[0;34m,\u001b[0m \u001b[0mstatus\u001b[0m\u001b[0;34m,\u001b[0m \u001b[0mreason\u001b[0m \u001b[0;34m=\u001b[0m \u001b[0mself\u001b[0m\u001b[0;34m.\u001b[0m\u001b[0m_read_status\u001b[0m\u001b[0;34m(\u001b[0m\u001b[0;34m)\u001b[0m\u001b[0;34m\u001b[0m\u001b[0;34m\u001b[0m\u001b[0m\n\u001b[0m\u001b[1;32m    308\u001b[0m             \u001b[0;32mif\u001b[0m \u001b[0mstatus\u001b[0m \u001b[0;34m!=\u001b[0m \u001b[0mCONTINUE\u001b[0m\u001b[0;34m:\u001b[0m\u001b[0;34m\u001b[0m\u001b[0;34m\u001b[0m\u001b[0m\n\u001b[1;32m    309\u001b[0m                 \u001b[0;32mbreak\u001b[0m\u001b[0;34m\u001b[0m\u001b[0;34m\u001b[0m\u001b[0m\n",
      "\u001b[0;32m/usr/lib/python3.8/http/client.py\u001b[0m in \u001b[0;36m_read_status\u001b[0;34m(self)\u001b[0m\n\u001b[1;32m    266\u001b[0m \u001b[0;34m\u001b[0m\u001b[0m\n\u001b[1;32m    267\u001b[0m     \u001b[0;32mdef\u001b[0m \u001b[0m_read_status\u001b[0m\u001b[0;34m(\u001b[0m\u001b[0mself\u001b[0m\u001b[0;34m)\u001b[0m\u001b[0;34m:\u001b[0m\u001b[0;34m\u001b[0m\u001b[0;34m\u001b[0m\u001b[0m\n\u001b[0;32m--> 268\u001b[0;31m         \u001b[0mline\u001b[0m \u001b[0;34m=\u001b[0m \u001b[0mstr\u001b[0m\u001b[0;34m(\u001b[0m\u001b[0mself\u001b[0m\u001b[0;34m.\u001b[0m\u001b[0mfp\u001b[0m\u001b[0;34m.\u001b[0m\u001b[0mreadline\u001b[0m\u001b[0;34m(\u001b[0m\u001b[0m_MAXLINE\u001b[0m \u001b[0;34m+\u001b[0m \u001b[0;36m1\u001b[0m\u001b[0;34m)\u001b[0m\u001b[0;34m,\u001b[0m \u001b[0;34m\"iso-8859-1\"\u001b[0m\u001b[0;34m)\u001b[0m\u001b[0;34m\u001b[0m\u001b[0;34m\u001b[0m\u001b[0m\n\u001b[0m\u001b[1;32m    269\u001b[0m         \u001b[0;32mif\u001b[0m \u001b[0mlen\u001b[0m\u001b[0;34m(\u001b[0m\u001b[0mline\u001b[0m\u001b[0;34m)\u001b[0m \u001b[0;34m>\u001b[0m \u001b[0m_MAXLINE\u001b[0m\u001b[0;34m:\u001b[0m\u001b[0;34m\u001b[0m\u001b[0;34m\u001b[0m\u001b[0m\n\u001b[1;32m    270\u001b[0m             \u001b[0;32mraise\u001b[0m \u001b[0mLineTooLong\u001b[0m\u001b[0;34m(\u001b[0m\u001b[0;34m\"status line\"\u001b[0m\u001b[0;34m)\u001b[0m\u001b[0;34m\u001b[0m\u001b[0;34m\u001b[0m\u001b[0m\n",
      "\u001b[0;32m/usr/lib/python3.8/socket.py\u001b[0m in \u001b[0;36mreadinto\u001b[0;34m(self, b)\u001b[0m\n\u001b[1;32m    667\u001b[0m         \u001b[0;32mwhile\u001b[0m \u001b[0;32mTrue\u001b[0m\u001b[0;34m:\u001b[0m\u001b[0;34m\u001b[0m\u001b[0;34m\u001b[0m\u001b[0m\n\u001b[1;32m    668\u001b[0m             \u001b[0;32mtry\u001b[0m\u001b[0;34m:\u001b[0m\u001b[0;34m\u001b[0m\u001b[0;34m\u001b[0m\u001b[0m\n\u001b[0;32m--> 669\u001b[0;31m                 \u001b[0;32mreturn\u001b[0m \u001b[0mself\u001b[0m\u001b[0;34m.\u001b[0m\u001b[0m_sock\u001b[0m\u001b[0;34m.\u001b[0m\u001b[0mrecv_into\u001b[0m\u001b[0;34m(\u001b[0m\u001b[0mb\u001b[0m\u001b[0;34m)\u001b[0m\u001b[0;34m\u001b[0m\u001b[0;34m\u001b[0m\u001b[0m\n\u001b[0m\u001b[1;32m    670\u001b[0m             \u001b[0;32mexcept\u001b[0m \u001b[0mtimeout\u001b[0m\u001b[0;34m:\u001b[0m\u001b[0;34m\u001b[0m\u001b[0;34m\u001b[0m\u001b[0m\n\u001b[1;32m    671\u001b[0m                 \u001b[0mself\u001b[0m\u001b[0;34m.\u001b[0m\u001b[0m_timeout_occurred\u001b[0m \u001b[0;34m=\u001b[0m \u001b[0;32mTrue\u001b[0m\u001b[0;34m\u001b[0m\u001b[0;34m\u001b[0m\u001b[0m\n",
      "\u001b[0;31mKeyboardInterrupt\u001b[0m: "
     ]
    }
   ],
   "source": [
    "# next page\n",
    "browser.get('https://www.tripadvisor.in/Hotel_Review-g297586-d1879037-Reviews-Lemon_Tree_Premier_HITEC_City-Hyderabad_Hyderabad_District_Telangana.html') \n",
    "time.sleep(1)\n",
    "expected_len  = 0\n",
    "for k in range(browser.execute_script(\"return parseInt(document.getElementsByClassName('pageNum')[document.getElementsByClassName('pageNum').length-1].innerText) \")):\n",
    "        wait = WebDriverWait(browser, 10)\n",
    "        element = wait.until(wait_for_new_api())\n",
    "        print(browser.execute_script(\"return document.getElementsByClassName('glasR4aX')[\"+str(0)+\"].innerText\"))\n",
    "        for i in range(len(browser.execute_script(\"return document.getElementsByClassName('_2wrUUKlw')\"))):\n",
    "        \n",
    "            browser.execute_script(\" document.getElementsByClassName('_2wrUUKlw')[\"+str(i)+\"].getElementsByClassName('_3maEfNCR')[0].innerText === 'Read more'? document.getElementsByClassName('_2wrUUKlw')[\"+str(i)+\"].getElementsByClassName('_3maEfNCR')[0].click() : '' \")\n",
    "\n",
    "            review_date.append( browser.execute_script(\"return document.getElementsByClassName('_2fxQ4TOx')[\"+str(i)+\"].innerText\").replace(browser.execute_script(\"return document.getElementsByClassName('ui_header_link _1r_My98y')[\"+str(i)+\"].innerText\"),'').replace(\" wrote a review \",\"\"))\n",
    "            review_title.append( browser.execute_script(\"return document.getElementsByClassName('glasR4aX')[\"+str(i)+\"].innerText\"))\n",
    "            review_text.append( browser.execute_script(\"return document.getElementsByClassName('IRsGHoPm')[\"+str(i)+\"].innerText\"))\n",
    "           \n",
    "            rating.append( int(browser.execute_script(\"return document.getElementsByClassName('nf9vGX55')[\"+str(i)+\"].firstElementChild.classList[1]\").replace(\"bubble_\",\"\"))/10)\n",
    "            date_of_stay.append( browser.execute_script(\"return  document.getElementsByClassName('_2wrUUKlw')[\"+str(i)+\"].getElementsByClassName('_34Xs-BQm').length===1 ?document.getElementsByClassName('_2wrUUKlw')[\"+str(i)+\"].getElementsByClassName('_34Xs-BQm')[0].innerText: ''\").replace(browser.execute_script(\"return document.getElementsByClassName('_2wrUUKlw')[\"+str(i)+\"].getElementsByClassName('_34Xs-BQm').length===1? document.getElementsByClassName('_2wrUUKlw')[\"+str(i)+\"].getElementsByClassName('_355y0nZn')[0].innerText:''\"),'')[1:])\n",
    "            trip_type.append(\n",
    "                 browser.execute_script(\"return document.getElementsByClassName('_2wrUUKlw')[\"+str(i)+\"].getElementsByClassName('_2bVY3aT5').length===1?document.getElementsByClassName('_2wrUUKlw')[\"+str(i)+\"].getElementsByClassName('_2bVY3aT5')[0].innerText: ''\").replace('Travelled',\"\").replace('as a','').replace('on','').replace('with','').replace(\" \",'').replace('Triptype:',''))\n",
    "\n",
    "            reviewer_name.append(browser.execute_script(\"return document.getElementsByClassName('_2wrUUKlw')[\"+str(i)+\"].getElementsByClassName('ui_header_link _1r_My98y')[0].innerText\"))\n",
    "            sizeOfBar = browser.execute_script( \"return document.getElementsByClassName('_2wrUUKlw')[\"+str(i)+\"].getElementsByClassName('_1EpRX7o3').length>0? document.getElementsByClassName('_2wrUUKlw')[\"+str(i)+\"].getElementsByClassName('_1EpRX7o3')[0].childElementCount : 0\")\n",
    "            for element in range(int(sizeOfBar)):\n",
    "                name = browser.execute_script( \"return document.getElementsByClassName('_2wrUUKlw')[\"+str(i)+\"].getElementsByClassName('_1EpRX7o3')[0].childNodes[\"+str(element)+\"]?document.getElementsByClassName('_2wrUUKlw')[\"+str(i)+\"].getElementsByClassName('_1EpRX7o3')[0].childNodes[\"+str(element)+\"].innerText: 'none' \")\n",
    "                if (name.find('contribution') > (-1)): \n",
    "                    contribution.append(int(name.replace('contribution','').replace('s','').replace(',','')))\n",
    "            \n",
    "                elif (name.find('helpful vote') >(-1)):\n",
    "                    help_full_votes.append(int(name.replace('helpful vote','').replace('s','').replace(',','')))\n",
    "                elif(name.find('none')>-1):\n",
    "                    pass\n",
    "                else :\n",
    "                    location_reviewer.append(name)\n",
    "            if (len(contribution)) < (expected_len+ i+1):\n",
    "                contribution.append('')\n",
    "            if (len(help_full_votes)) < (expected_len+ i+1):\n",
    "               help_full_votes.append('')\n",
    "            if (len(location_reviewer)) < (expected_len+ i+1):\n",
    "                location_reviewer.append('')\n",
    "        \n",
    "            hasOtherDetails = int(browser.execute_script(\"return (document.getElementsByClassName('_2wrUUKlw')[\"+str(i)+\"].getElementsByClassName('_1HQD2bGG').length + document.getElementsByClassName('_2wrUUKlw')[\"+str(i)+\"].getElementsByClassName('_1HQD2bGG').length) \"))\n",
    "            if hasOtherDetails>0:\n",
    "                noOfOtherDetails=  int(browser.execute_script(\"return (document.getElementsByClassName('_2wrUUKlw')[\"+str(i)+\"].getElementsByClassName('_1HQD2bGG')[0]!== undefined)?document.getElementsByClassName('_2wrUUKlw')[\"+str(i)+\"].getElementsByClassName('_1HQD2bGG')[0].childElementCount:0\"))\n",
    "              \n",
    "                for j in range(noOfOtherDetails):\n",
    "\n",
    "                    if( int(browser.execute_script(\"return (document.getElementsByClassName('_2wrUUKlw')[\"+str(i)+\"].getElementsByClassName('_1HQD2bGG')[0]===undefined?0:1)\"))>0):\n",
    "                        try:\n",
    "                            typeOfStat = browser.execute_script(\"return document.getElementsByClassName('_2wrUUKlw')[\"+str(i)+\"].getElementsByClassName('_1HQD2bGG')[0].children[\"+str(j)+\"].innerText\")\n",
    "                            value = int(browser.execute_script(\"return document.getElementsByClassName('_2wrUUKlw')[\"+str(i)+\"].getElementsByClassName('_1HQD2bGG')[0].getElementsByClassName('_3-8hSrXs')[\"+str(j)+\"].firstElementChild.classList[1]\").replace(\"bubble_\",\"\"))/10\n",
    "\n",
    "                        except:\n",
    "                             typeOfStat = \"\"\n",
    "                             value = \"\"\n",
    "                        if(typeOfStat.find('Value')>-1):\n",
    "                            Value_rating.append(value)\n",
    "                        elif(typeOfStat.find('Location')>-1):\n",
    "                            Location_rating.append(value)\n",
    "                        elif(typeOfStat.find('Service')>-1):\n",
    "                            Service_rating.append(value)\n",
    "                        elif(typeOfStat.find('Cleanliness')>-1):\n",
    "                            Cleanliness_rating.append(value)\n",
    "                        elif(typeOfStat.find('Room')>-1):\n",
    "                            Rooms_rating.append(value)\n",
    "                        elif(typeOfStat.find('Sleep')>-1):\n",
    "                            Sleep_Quality_rating.append(value)\n",
    "                if(len(Value_rating)<(i+1+expected_len)):\n",
    "                    Value_rating.append('')\n",
    "                if(len(Location_rating)<(i+1+expected_len)):\n",
    "                    Location_rating.append('')\n",
    "                if(len(Service_rating)<(i+1+expected_len)):\n",
    "                    Service_rating.append('')\n",
    "                if(len(Rooms_rating)<(i+1+expected_len)):\n",
    "                    Rooms_rating.append('')\n",
    "                if(len(Sleep_Quality_rating)<(i+1+expected_len)):\n",
    "                    Sleep_Quality_rating.append('')\n",
    "                if(len(Cleanliness_rating)<(i+1+expected_len)):\n",
    "                    Cleanliness_rating.append('')\n",
    "\n",
    "                    \n",
    "            else:\n",
    "                Location_rating.append('')\n",
    "                Service_rating.append('')\n",
    "                Cleanliness_rating.append('')\n",
    "                Rooms_rating.append('')\n",
    "                Sleep_Quality_rating.append('')\n",
    "                Value_rating.append('')\n",
    "        expected_len += len(browser.execute_script(\"return document.getElementsByClassName('_2wrUUKlw')\"))\n",
    "        browser.execute_script((\"document.getElementsByClassName('_310S4sqz')[0].remove();document.getElementsByClassName('_310S4sqz')[0].remove();document.getElementsByClassName('_310S4sqz')[0].remove();document.getElementsByClassName('_310S4sqz')[0].remove();document.getElementsByClassName('_310S4sqz')[0].remove();document.querySelector('.ui_pagination .primary').click()\"))\n",
    "        # print('clicking for next page',d)\n",
    "    \n",
    "   \n",
    "    "
   ]
  },
  {
   "cell_type": "code",
   "execution_count": null,
   "metadata": {},
   "outputs": [],
   "source": [
    "df = pd.DataFrame(list(zip(review_date,review_title,review_text,rating,date_of_stay,trip_type,reviewer_name,contribution,help_full_votes,location_reviewer,Location_rating,Service_rating,Cleanliness_rating,Rooms_rating ,Sleep_Quality_rating,Value_rating )),\n",
    "                  columns =['review_date','review_title','review_text','rating','date_of_stay','trip_type','reviewer_name','contribution','help_full_votes','location_reviewer','Location_rating','Service_rating','Cleanliness_rating','Rooms_rating' ,'Sleep_Quality_rating','Value_rating'])\n",
    "                "
   ]
  },
  {
   "cell_type": "code",
   "execution_count": null,
   "metadata": {},
   "outputs": [],
   "source": [
    "df.to_csv(\"c.csv\")  "
   ]
  },
  {
   "cell_type": "code",
   "execution_count": null,
   "metadata": {},
   "outputs": [],
   "source": [
    "browser.quit()"
   ]
  },
  {
   "cell_type": "code",
   "execution_count": null,
   "metadata": {},
   "outputs": [],
   "source": [
    "import re, datetime\n",
    "def sortDate(e):\n",
    "    newE = e.replace('January',\"Jan\").replace('February','Feb').replace('March','Mar').replace('April',\"Apr\").replace('June','Jun').replace('July',\"Jul\").replace('August',\"Aug\").replace('September','Sep').replace('October','Oct').replace('November',\"Nov\").replace('December',\"Dec\")\n",
    "    try: \n",
    "        if(re.search('.*20[0-9][0-9].*',newE)):\n",
    "            if(len(newE) > 8):\n",
    "                return datetime.datetime.strptime(newE[len(newE)-8:],'%b %Y')\n",
    "            return datetime.datetime.strptime(newE,'%b %Y')\n",
    "        elif(re.search('Jan|Feb|Mar|Apr|May|Jun|Jul|Aug|Sep|Oct|Nov|Dec', newE)):\n",
    "            return datetime.datetime.strptime(newE+\" \"+str(datetime.datetime.now().year),'%d %b %Y')\n",
    "        elif (e.find('Yesterday')>-1):\n",
    "            return datetime.datetime.now() - datetime.timedelta(days=1)\n",
    "        else:\n",
    "            return datetime.datetime.now()\n",
    "    except:\n",
    "        print(newE[len(newE)-8:])\n",
    "        return datetime.datetime.now()"
   ]
  },
  {
   "cell_type": "code",
   "execution_count": null,
   "metadata": {
    "tags": []
   },
   "outputs": [],
   "source": [
    "# for sorting\n",
    "df.review_date.apply(sortDate).sort_values()"
   ]
  },
  {
   "cell_type": "code",
   "execution_count": null,
   "metadata": {},
   "outputs": [],
   "source": []
  }
 ],
 "metadata": {
  "kernelspec": {
   "display_name": "Python 3",
   "language": "python",
   "name": "python3"
  },
  "language_info": {
   "codemirror_mode": {
    "name": "ipython",
    "version": 3
   },
   "file_extension": ".py",
   "mimetype": "text/x-python",
   "name": "python",
   "nbconvert_exporter": "python",
   "pygments_lexer": "ipython3",
   "version": "3.8.6-final"
  }
 },
 "nbformat": 4,
 "nbformat_minor": 4
}