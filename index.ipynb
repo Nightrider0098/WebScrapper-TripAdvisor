{
 "cells": [
  {
   "cell_type": "code",
   "execution_count": null,
   "metadata": {},
   "outputs": [],
   "source": [
    "!pip install selenium\n",
    "!pip install pandas"
   ]
  },
  {
   "cell_type": "code",
   "execution_count": null,
   "metadata": {},
   "outputs": [],
   "source": [
    "import os\n",
    "if os.name == 'nt':\n",
    "    CHROMEDRIVER_PATH=\"./chromedriver\"\n",
    "else:\n",
    "    CHROMEDRIVER_PATH=\"./chromedriver\"\n"
   ]
  },
  {
   "cell_type": "code",
   "execution_count": null,
   "metadata": {},
   "outputs": [],
   "source": [
    "from selenium import webdriver       \n",
    "import time  \n",
    "import pandas as pd\n",
    "from selenium.webdriver.common.by import By\n",
    "from selenium.webdriver.chrome.options import Options\n",
    "from selenium.webdriver.support.ui import WebDriverWait"
   ]
  },
  {
   "cell_type": "code",
   "execution_count": null,
   "metadata": {},
   "outputs": [],
   "source": [
    "# declaring the columns\n",
    "review_date = []\n",
    "review_title=[]\n",
    "review_text=[]\n",
    "rating=[]\n",
    "date_of_stay=[]\n",
    "trip_type=[]\n",
    "reviewer_name=[]\n",
    "contribution=[]\n",
    "help_full_votes=[]\n",
    "location_reviewer=[]\n",
    "Location_rating = []\n",
    "Service_rating = []\n",
    "Cleanliness_rating = []\n",
    "Rooms_rating = []\n",
    "Sleep_Quality_rating = []\n",
    "Value_rating =[]"
   ]
  },
  {
   "cell_type": "code",
   "execution_count": null,
   "metadata": {},
   "outputs": [],
   "source": [
    "\n",
    "options = Options()\n",
    "options.add_argument('--headless')\n",
    "options.add_argument('--disable-gpu')\n",
    "browser = webdriver.Chrome(CHROMEDRIVER_PATH,options=options)\n",
    "browser.get('https://www.tripadvisor.in/Hotel_Review-g297586-d1879037-Reviews-Lemon_Tree_Premier_HITEC_City-Hyderabad_Hyderabad_District_Telangana.html') "
   ]
  },
  {
   "cell_type": "code",
   "execution_count": null,
   "metadata": {},
   "outputs": [],
   "source": [
    "hotel_name = browser.execute_script(\"return document.getElementsByClassName('_1mTlpMC3')[0]? ( document.getElementsByClassName('_1mTlpMC3')[0].innerText):( 'cannotFind')\")"
   ]
  },
  {
   "cell_type": "code",
   "execution_count": null,
   "metadata": {},
   "outputs": [],
   "source": [
    "hotel_location = browser.execute_script(\"return document.getElementsByClassName('_3ErVArsu jke2_wbp')[0]? ( document.getElementsByClassName('_3ErVArsu jke2_wbp')[0].innerText):( 'cannotFind')\")"
   ]
  },
  {
   "cell_type": "code",
   "execution_count": null,
   "metadata": {},
   "outputs": [],
   "source": [
    "for i in range(len(browser.execute_script(\"return document.getElementsByClassName('_2wrUUKlw')\"))):\n",
    "    review_date.append( browser.execute_script(\"return document.getElementsByClassName('_2fxQ4TOx')[\"+str(i)+\"].innerText\").replace(browser.execute_script(\"return document.getElementsByClassName('ui_header_link _1r_My98y')[\"+str(i)+\"].innerText\"),'').replace(\" wrote a review \",\"\"))"
   ]
  },
  {
   "cell_type": "code",
   "execution_count": null,
   "metadata": {},
   "outputs": [],
   "source": [
    "for i in range(len(browser.execute_script(\"return document.getElementsByClassName('_2wrUUKlw')\"))):\n",
    "    review_title.append( browser.execute_script(\"return document.getElementsByClassName('glasR4aX')[\"+str(i)+\"].innerText\"))"
   ]
  },
  {
   "cell_type": "code",
   "execution_count": null,
   "metadata": {},
   "outputs": [],
   "source": [
    "for i in range(len(browser.execute_script(\"return document.getElementsByClassName('_2wrUUKlw')\"))):\n",
    "    review_text.append( browser.execute_script(\"return document.getElementsByClassName('IRsGHoPm')[\"+str(i)+\"].innerText\"))"
   ]
  },
  {
   "cell_type": "code",
   "execution_count": null,
   "metadata": {},
   "outputs": [],
   "source": [
    "for i in range(len(browser.execute_script(\"return document.getElementsByClassName('_2wrUUKlw')\"))):\n",
    "    rating.append( int(browser.execute_script(\"return document.getElementsByClassName('nf9vGX55')[\"+str(i)+\"].firstElementChild.classList[1]\").replace(\"bubble_\",\"\"))/10)"
   ]
  },
  {
   "cell_type": "code",
   "execution_count": null,
   "metadata": {},
   "outputs": [],
   "source": [
    "for i in range(len(browser.execute_script(\"return document.getElementsByClassName('_2wrUUKlw')\"))):\n",
    "    date_of_stay.append( browser.execute_script(\"return  document.getElementsByClassName('_2wrUUKlw')[\"+str(i)+\"].getElementsByClassName('_34Xs-BQm').length===1 ?document.getElementsByClassName('_2wrUUKlw')[\"+str(i)+\"].getElementsByClassName('_34Xs-BQm')[0].innerText: ''\").replace(browser.execute_script(\"return document.getElementsByClassName('_2wrUUKlw')[\"+str(i)+\"].getElementsByClassName('_355y0nZn')[0].innerText\"),'')[1:])"
   ]
  },
  {
   "cell_type": "code",
   "execution_count": null,
   "metadata": {},
   "outputs": [],
   "source": [
    "for i in range(len(browser.execute_script(\"return document.getElementsByClassName('_2wrUUKlw')\"))):\n",
    "    trip_type.append( browser.execute_script(\"return document.getElementsByClassName('_2wrUUKlw')[\"+str(i)+\"].getElementsByClassName('_2bVY3aT5').length===1?document.getElementsByClassName('_2wrUUKlw')[\"+str(i)+\"].getElementsByClassName('_2bVY3aT5')[0].innerText: ''\").replace(browser.execute_script(\"return document.getElementsByClassName('_2wrUUKlw')[\"+str(i)+\"].getElementsByClassName('trip_type_label')[0].innerText\"),'').replace('Travelled',\"\").replace('as a','').replace('on','').replace('with','').replace(\" \",''))"
   ]
  },
  {
   "cell_type": "code",
   "execution_count": null,
   "metadata": {},
   "outputs": [],
   "source": [
    "for i in range(len(browser.execute_script(\"return document.getElementsByClassName('_2wrUUKlw')\"))):\n",
    "    reviewer_name.append(browser.execute_script(\"return document.getElementsByClassName('_2wrUUKlw')[\"+str(i)+\"].getElementsByClassName('ui_header_link _1r_My98y')[0].innerText\"))"
   ]
  },
  {
   "cell_type": "code",
   "execution_count": null,
   "metadata": {},
   "outputs": [],
   "source": [
    "for i in range(len(browser.execute_script(\"return document.getElementsByClassName('_2wrUUKlw')\"))):\n",
    "    sizeOfBar = browser.execute_script( \"return document.getElementsByClassName('_2wrUUKlw')[\"+str(i)+\"].getElementsByClassName('_1EpRX7o3').length>0? document.getElementsByClassName('_2wrUUKlw')[\"+str(i)+\"].getElementsByClassName('_1EpRX7o3')[0].childElementCount : 0\")\n",
    "    for element in range(int(sizeOfBar)):\n",
    "        name = browser.execute_script( \"return document.getElementsByClassName('_2wrUUKlw')[\"+str(i)+\"].getElementsByClassName('_1EpRX7o3')[0].childNodes[\"+str(element)+\"].innerText\")\n",
    "        if (name.find('contribution') > (-1)): \n",
    "            contribution.append(int(name.replace('contribution','').replace('s','')))\n",
    "        \n",
    "        elif (name.find('helpful votes') >(-1)):\n",
    "            help_full_votes.append(int(name.replace('helpful vote','').replace('s','')))\n",
    "        \n",
    "        else :\n",
    "            location_reviewer.append(name)\n",
    "    if len(contribution) < (i+1):\n",
    "        contribution.append('')\n",
    "    if len(help_full_votes) < (i+1):\n",
    "        help_full_votes.append('')\n",
    "    if len(location_reviewer) < (i+1):\n",
    "        location_reviewer.append('')\n",
    "        \n"
   ]
  },
  {
   "cell_type": "code",
   "execution_count": null,
   "metadata": {},
   "outputs": [],
   "source": [
    "\n",
    "expected_len = 0\n",
    "for i in range(len(browser.execute_script(\"return document.getElementsByClassName('_2wrUUKlw')\"))):\n",
    "    browser.execute_script(\" document.getElementsByClassName('_2wrUUKlw')[\"+str(i)+\"].getElementsByClassName('_3maEfNCR')[0].click()\")\n",
    "    hasOtherDetails = int(browser.execute_script(\"return document.getElementsByClassName('_2wrUUKlw')[\"+str(i)+\"].getElementsByClassName('_1HQD2bGG').length\"))\n",
    "    if hasOtherDetails>0:\n",
    "        noOfOtherDetails=  int(browser.execute_script(\"return document.getElementsByClassName('_2wrUUKlw')[\"+str(i)+\"].getElementsByClassName('_1HQD2bGG')[0].childElementCount\"))\n",
    "        for j in range(noOfOtherDetails):\n",
    "            typeOfStat = browser.execute_script(\"return document.getElementsByClassName('_2wrUUKlw')[\"+str(i)+\"].getElementsByClassName('_1HQD2bGG')[0].children[\"+str(j)+\"].innerText\")\n",
    "            value = int(browser.execute_script(\"return document.getElementsByClassName('_2wrUUKlw')[\"+str(i)+\"].getElementsByClassName('_1HQD2bGG')[0].getElementsByClassName('_3-8hSrXs')[\"+str(j)+\"].firstElementChild.classList[1]\").replace(\"bubble_\",\"\"))/10\n",
    "            if(typeOfStat.find('Value')>-1):\n",
    "                Value_rating.append(value)\n",
    "            elif(typeOfStat.find('Location')>-1):\n",
    "                Location_rating.append(value)\n",
    "            elif(typeOfStat.find('Service')>-1):\n",
    "                Service_rating.append(value)\n",
    "            elif(typeOfStat.find('Cleanliness')>-1):\n",
    "                Cleanliness_rating.append(value)\n",
    "            elif(typeOfStat.find('Room')>-1):\n",
    "                Rooms_rating.append(value)\n",
    "            elif(typeOfStat.find('Sleep')>-1):\n",
    "                Sleep_Quality_rating.append(value)\n",
    "        if(len(Value_rating)<(i+1+expected_len)):\n",
    "            Value_rating.append('')\n",
    "        if(len(Location_rating)<(i+1+expected_len)):\n",
    "            Location_rating.append('')\n",
    "        if(len(Service_rating)<(i+1+expected_len)):\n",
    "            Service_rating.append('')\n",
    "        if(len(Rooms_rating)<(i+1+expected_len)):\n",
    "            Rooms_rating.append('')\n",
    "        if(len(Sleep_Quality_rating)<(i+1+expected_len)):\n",
    "            Sleep_Quality_rating.append('')\n",
    "        if(len(Cleanliness_rating)<(i+1+expected_len)):\n",
    "            Cleanliness_rating.append('')\n",
    "\n",
    "                \n",
    "    else:\n",
    "        Location_rating.append('')\n",
    "        Service_rating.append('')\n",
    "        Cleanliness_rating.append('')\n",
    "        Rooms_rating.append('')\n",
    "        Sleep_Quality_rating.append('')\n",
    "        Value_rating.append('')\n",
    "    \n"
   ]
  },
  {
   "cell_type": "code",
   "execution_count": null,
   "metadata": {},
   "outputs": [],
   "source": [
    "# clearing of all the data111\n",
    "review_date = []\n",
    "review_title=[]\n",
    "review_text=[]\n",
    "rating=[]\n",
    "date_of_stay=[]\n",
    "trip_type=[]\n",
    "reviewer_name=[]\n",
    "contribution=[]\n",
    "help_full_votes=[]\n",
    "location_reviewer=[]\n",
    "Location_rating = []\n",
    "Service_rating = []\n",
    "Cleanliness_rating = []\n",
    "Rooms_rating = []\n",
    "Sleep_Quality_rating = []\n",
    "Value_rating =[]"
   ]
  },
  {
   "cell_type": "code",
   "execution_count": null,
   "metadata": {},
   "outputs": [],
   "source": [
    "class wait_for_new_api(object):\n",
    "  def __init__(self):\n",
    "      pass\n",
    "\n",
    "  def __call__(self, driver):    \n",
    "    element = driver.execute_script(\"return document.getElementsByClassName('_310S4sqz')&&document.getElementsByClassName('_310S4sqz').length>1 \") \n",
    "    if element == True :\n",
    "        return element\n",
    "    else:\n",
    "        return False"
   ]
  },
  {
   "cell_type": "code",
   "execution_count": null,
   "metadata": {},
   "outputs": [],
   "source": [
    "#  next page\n",
    "browser.get('https://www.tripadvisor.in/Hotel_Review-g297586-d1879037-Reviews-Lemon_Tree_Premier_HITEC_City-Hyderabad_Hyderabad_District_Telangana.html') \n",
    "time.sleep(1)\n",
    "expected_len  = 0 \n",
    "wait = WebDriverWait(browser, 10)\n",
    "max_page= browser.execute_script(\"return parseInt(document.getElementsByClassName('pageNum')[document.getElementsByClassName('pageNum').length-1].innerText) \")\n",
    "\n",
    "for k in range(browser.execute_script(\"return parseInt(document.getElementsByClassName('pageNum')[document.getElementsByClassName('pageNum').length-1].innerText) \")):\n",
    "\n",
    "        element = wait.until(wait_for_new_api())\n",
    "        for i in range(browser.execute_script(\"return document.getElementsByClassName('_2wrUUKlw').length\")):\n",
    "            browser.execute_script(\" document.getElementsByClassName('_2wrUUKlw')[\"+str(i)+\"].getElementsByClassName('_3maEfNCR')[0].innerText === 'Read more'? document.getElementsByClassName('_2wrUUKlw')[\"+str(i)+\"].getElementsByClassName('_3maEfNCR')[0].click() : '' \")\n",
    "\n",
    "            review_date.append( browser.execute_script(\"return document.getElementsByClassName('_2fxQ4TOx')[\"+str(i)+\"].innerText\").replace(browser.execute_script(\"return document.getElementsByClassName('ui_header_link _1r_My98y')[\"+str(i)+\"].innerText\"),'').replace(\" wrote a review \",\"\"))\n",
    "            review_title.append( browser.execute_script(\"return document.getElementsByClassName('glasR4aX')[\"+str(i)+\"].innerText\"))\n",
    "            review_text.append( browser.execute_script(\"return document.getElementsByClassName('IRsGHoPm')[\"+str(i)+\"].innerText\"))\n",
    "           \n",
    "            rating.append( int(browser.execute_script(\"return document.getElementsByClassName('nf9vGX55')[\"+str(i)+\"].firstElementChild.classList[1]\").replace(\"bubble_\",\"\"))/10)\n",
    "            date_of_stay.append( browser.execute_script(\"return  document.getElementsByClassName('_2wrUUKlw')[\"+str(i)+\"].getElementsByClassName('_34Xs-BQm').length===1 ?document.getElementsByClassName('_2wrUUKlw')[\"+str(i)+\"].getElementsByClassName('_34Xs-BQm')[0].innerText: ''\").replace(browser.execute_script(\"return document.getElementsByClassName('_2wrUUKlw')[\"+str(i)+\"].getElementsByClassName('_34Xs-BQm').length===1? document.getElementsByClassName('_2wrUUKlw')[\"+str(i)+\"].getElementsByClassName('_355y0nZn')[0].innerText:''\"),'')[1:])\n",
    "            trip_type.append(\n",
    "                 browser.execute_script(\"return document.getElementsByClassName('_2wrUUKlw')[\"+str(i)+\"].getElementsByClassName('_2bVY3aT5').length===1?document.getElementsByClassName('_2wrUUKlw')[\"+str(i)+\"].getElementsByClassName('_2bVY3aT5')[0].innerText: ''\").replace('Travelled',\"\").replace('as a','').replace('on','').replace('with','').replace(\" \",'').replace('Triptype:',''))\n",
    "\n",
    "            reviewer_name.append(browser.execute_script(\"return document.getElementsByClassName('_2wrUUKlw')[\"+str(i)+\"].getElementsByClassName('ui_header_link _1r_My98y')[0].innerText\"))\n",
    "            sizeOfBar = browser.execute_script( \"return document.getElementsByClassName('_2wrUUKlw')[\"+str(i)+\"].getElementsByClassName('_1EpRX7o3').length>0? document.getElementsByClassName('_2wrUUKlw')[\"+str(i)+\"].getElementsByClassName('_1EpRX7o3')[0].childElementCount : 0\")\n",
    "            for element in range(int(sizeOfBar)):\n",
    "                name = browser.execute_script( \"return document.getElementsByClassName('_2wrUUKlw')[\"+str(i)+\"].getElementsByClassName('_1EpRX7o3')[0].childNodes[\"+str(element)+\"]?document.getElementsByClassName('_2wrUUKlw')[\"+str(i)+\"].getElementsByClassName('_1EpRX7o3')[0].childNodes[\"+str(element)+\"].innerText: 'none' \")\n",
    "                if (name.find('contribution') > (-1)): \n",
    "                    contribution.append(int(name.replace('contribution','').replace('s','').replace(',','')))\n",
    "            \n",
    "                elif (name.find('helpful vote') >(-1)):\n",
    "                    help_full_votes.append(int(name.replace('helpful vote','').replace('s','').replace(',','')))\n",
    "                elif(name.find('none')>-1):\n",
    "                    pass\n",
    "                else :\n",
    "                    location_reviewer.append(name)\n",
    "            if (len(contribution)) < (expected_len+ i+1):\n",
    "                contribution.append('')\n",
    "            if (len(help_full_votes)) < (expected_len+ i+1):\n",
    "               help_full_votes.append('')\n",
    "            if (len(location_reviewer)) < (expected_len+ i+1):\n",
    "                location_reviewer.append('')\n",
    "        \n",
    "            hasOtherDetails = int(browser.execute_script(\"return (document.getElementsByClassName('_2wrUUKlw')[\"+str(i)+\"].getElementsByClassName('_1HQD2bGG').length + document.getElementsByClassName('_2wrUUKlw')[\"+str(i)+\"].getElementsByClassName('_1HQD2bGG').length) \"))\n",
    "            if hasOtherDetails>0:\n",
    "                noOfOtherDetails=  int(browser.execute_script(\"return (document.getElementsByClassName('_2wrUUKlw')[\"+str(i)+\"].getElementsByClassName('_1HQD2bGG')[0]!== undefined)?document.getElementsByClassName('_2wrUUKlw')[\"+str(i)+\"].getElementsByClassName('_1HQD2bGG')[0].childElementCount:0\"))\n",
    "              \n",
    "                for j in range(noOfOtherDetails):\n",
    "\n",
    "                    if( int(browser.execute_script(\"return (document.getElementsByClassName('_2wrUUKlw')[\"+str(i)+\"].getElementsByClassName('_1HQD2bGG')[0]===undefined?0:1)\"))>0):\n",
    "                        try:\n",
    "                            typeOfStat = browser.execute_script(\"return document.getElementsByClassName('_2wrUUKlw')[\"+str(i)+\"].getElementsByClassName('_1HQD2bGG')[0].children[\"+str(j)+\"].innerText\")\n",
    "                            value = int(browser.execute_script(\"return document.getElementsByClassName('_2wrUUKlw')[\"+str(i)+\"].getElementsByClassName('_1HQD2bGG')[0].getElementsByClassName('_3-8hSrXs')[\"+str(j)+\"].firstElementChild.classList[1]\").replace(\"bubble_\",\"\"))/10\n",
    "\n",
    "                        except:\n",
    "                             typeOfStat = \"\"\n",
    "                             value = \"\"\n",
    "                        if(typeOfStat.find('Value')>-1):\n",
    "                            Value_rating.append(value)\n",
    "                        elif(typeOfStat.find('Location')>-1):\n",
    "                            Location_rating.append(value)\n",
    "                        elif(typeOfStat.find('Service')>-1):\n",
    "                            Service_rating.append(value)\n",
    "                        elif(typeOfStat.find('Cleanliness')>-1):\n",
    "                            Cleanliness_rating.append(value)\n",
    "                        elif(typeOfStat.find('Room')>-1):\n",
    "                            Rooms_rating.append(value)\n",
    "                        elif(typeOfStat.find('Sleep')>-1):\n",
    "                            Sleep_Quality_rating.append(value)\n",
    "                if(len(Value_rating)<(i+1+expected_len)):\n",
    "                    Value_rating.append('')\n",
    "                if(len(Location_rating)<(i+1+expected_len)):\n",
    "                    Location_rating.append('')\n",
    "                if(len(Service_rating)<(i+1+expected_len)):\n",
    "                    Service_rating.append('')\n",
    "                if(len(Rooms_rating)<(i+1+expected_len)):\n",
    "                    Rooms_rating.append('')\n",
    "                if(len(Sleep_Quality_rating)<(i+1+expected_len)):\n",
    "                    Sleep_Quality_rating.append('')\n",
    "                if(len(Cleanliness_rating)<(i+1+expected_len)):\n",
    "                    Cleanliness_rating.append('')\n",
    "\n",
    "                    \n",
    "            else:\n",
    "                Location_rating.append('')\n",
    "                Service_rating.append('')\n",
    "                Cleanliness_rating.append('')\n",
    "                Rooms_rating.append('')\n",
    "                Sleep_Quality_rating.append('')\n",
    "                Value_rating.append('')\n",
    "      \n",
    "        expected_len += len(browser.execute_script(\"return document.getElementsByClassName('_2wrUUKlw')\"))\n",
    "        \n",
    "        browser.execute_script((\"while(document.getElementsByClassName('_310S4sqz').length>0)document.getElementsByClassName('_310S4sqz')[0].remove();document.querySelector('.ui_pagination .primary').click()\"))\n",
    "        \n",
    "        # print('clicking for next page',d)\n",
    "    \n",
    "   \n",
    "    "
   ]
  },
  {
   "cell_type": "code",
   "execution_count": null,
   "metadata": {},
   "outputs": [],
   "source": [
    "df = pd.DataFrame(list(zip(review_date,review_title,review_text,rating,date_of_stay,trip_type,reviewer_name,contribution,help_full_votes,location_reviewer,Location_rating,Service_rating,Cleanliness_rating,Rooms_rating ,Sleep_Quality_rating,Value_rating )),\n",
    "                  columns =['review_date','review_title','review_text','rating','date_of_stay','trip_type','reviewer_name','contribution','help_full_votes','location_reviewer','Location_rating','Service_rating','Cleanliness_rating','Rooms_rating' ,'Sleep_Quality_rating','Value_rating'])\n",
    "                "
   ]
  },
  {
   "cell_type": "code",
   "execution_count": null,
   "metadata": {},
   "outputs": [],
   "source": [
    "df.to_csv(\"c.csv\")  "
   ]
  },
  {
   "cell_type": "code",
   "execution_count": null,
   "metadata": {},
   "outputs": [],
   "source": [
    "browser.quit()"
   ]
  },
  {
   "cell_type": "code",
   "execution_count": null,
   "metadata": {},
   "outputs": [],
   "source": [
    "import re, datetime\n",
    "def sortDate(e):\n",
    "    newE = e.replace('January',\"Jan\").replace('February','Feb').replace('March','Mar').replace('April',\"Apr\").replace('June','Jun').replace('July',\"Jul\").replace('August',\"Aug\").replace('September','Sep').replace('October','Oct').replace('November',\"Nov\").replace('December',\"Dec\")\n",
    "    try: \n",
    "        if(re.search('.*20[0-9][0-9].*',newE)):\n",
    "            if(len(newE) > 8):\n",
    "                return datetime.datetime.strptime(newE[len(newE)-8:],'%b %Y')\n",
    "            return datetime.datetime.strptime(newE,'%b %Y')\n",
    "        elif(re.search('Jan|Feb|Mar|Apr|May|Jun|Jul|Aug|Sep|Oct|Nov|Dec', newE)):\n",
    "            return datetime.datetime.strptime(newE+\" \"+str(datetime.datetime.now().year),'%d %b %Y')\n",
    "        elif (e.find('Yesterday')>-1):\n",
    "            return datetime.datetime.now() - datetime.timedelta(days=1)\n",
    "        else:\n",
    "            return datetime.datetime.now()\n",
    "    except:\n",
    "        print(newE[len(newE)-8:])\n",
    "        return datetime.datetime.now()"
   ]
  },
  {
   "cell_type": "code",
   "execution_count": null,
   "metadata": {
    "tags": []
   },
   "outputs": [],
   "source": [
    "# for sorting\n",
    "df.review_date.apply(sortDate).sort_values()"
   ]
  },
  {
   "cell_type": "code",
   "execution_count": null,
   "metadata": {},
   "outputs": [],
   "source": []
  }
 ],
 "metadata": {
  "kernelspec": {
   "display_name": "Python 3",
   "language": "python",
   "name": "python3"
  },
  "language_info": {
   "codemirror_mode": {
    "name": "ipython",
    "version": 3
   },
   "file_extension": ".py",
   "mimetype": "text/x-python",
   "name": "python",
   "nbconvert_exporter": "python",
   "pygments_lexer": "ipython3",
   "version": "3.8.6-final"
  }
 },
 "nbformat": 4,
 "nbformat_minor": 4
}